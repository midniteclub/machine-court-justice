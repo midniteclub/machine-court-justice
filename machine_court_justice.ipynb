{
  "cells": [
    {
      "cell_type": "markdown",
      "metadata": {
        "id": "rlYD5Go09y1Q"
      },
      "source": [
        "# Section 1: Data\n",
        "\n",
        "1. Why am I choosing this dataset?\n",
        "\n",
        "  - This dataset was found on Kaggle (https://www.kaggle.com/datasets/deepcontractor/supreme-court-judgment-prediction) and chosen because it provides a unique opportunity to explore the dynamics and outcomes of Supreme Court cases, an area of significant legal, historical, and societal importance. The richness of the data allows for an in-depth analysis of how various factors, such as legal domains (issue areas) and case facts, influence case outcomes. Analyzing this dataset could yield insights into patterns of judicial decision-making, potentially helping legal professionals and scholars better understand trends in Supreme Court rulings.\n",
        "\n",
        "2. What variables will I use?\n",
        "\n",
        "  - For predicting the outcome of Supreme Court cases (first_party_winner), I will focus on the following variables:\n",
        "\n",
        "  - `term`: To capture the historical context of each case.\n",
        "  - `facts`: The detailed textual description of the case, crucial for understanding its specifics.\n",
        "  - `facts_len`: To gauge the complexity or detail involved in the case.\n",
        "  - `majority_vote` and `minority_vote`: To reflect the court's consensus or division on the case.\n",
        "  - `decision_type`: Indicating the nature of the court's opinion.\n",
        "  - `disposition`: Reflecting the fate of the lower court's decision.\n",
        "  - `issue_area`: The legal domain of the case, indicating its broader legal context.\n",
        "  - `facts_sentiment`: A measure of the emotional tone of the case facts, derived from sentiment analysis.\n",
        "\n",
        "These features were selected for their potential to provide a multidimensional understanding of each case, combining legal specifics, historical context, and emotional undertones.\n",
        "\n",
        "3. What analyses will I run?\n",
        "\n",
        "  - `Feature Engineering`: Processing textual data (facts) for sentiment analysis and vectorization, and encoding categorical variables (issue_area, decision_type, disposition).\n",
        "  - `Model Training`: Two logistic regression models will be trained. The first model will utilize the comprehensive set of features listed above. The second model will focus on a simplified approach using only facts and issue_area as features.\n",
        "  - `Model Evaluation`: Both models will be evaluated based on their accuracy, precision, recall, F1 score, and AUC-ROC, to understand their predictive performance and identify the most influential features.\n",
        "\n",
        "4. Do I have any hypotheses? What are they?\n",
        "\n",
        "  - `H1`: The number of cases brought to the Supreme Court has significantly fluctuated over terms, potentially reflecting changes in societal issues, legal challenges, or court dynamics.\n",
        "  - `H2`: Certain issue areas have significantly higher win rates, suggesting that the Court may exhibit systematic biases or preferences towards specific legal domains\n",
        "  - `H3`: The type of court decision (e.g., majority opinion, per curiam) affects the win rate for the first party, with some decision types being more favorable than others.\n",
        "  - `H4`: The length of the case facts correlates with the outcome, where longer facts could indicate more comprehensive arguments that might sway the Court's decision in favor of the presenting party."
      ]
    },
    {
      "cell_type": "code",
      "execution_count": 103,
      "metadata": {
        "colab": {
          "base_uri": "https://localhost:8080/"
        },
        "id": "Y_WqDI9E8OFv",
        "outputId": "58b49392-cc9d-46ae-864d-1dfe94f76163"
      },
      "outputs": [
        {
          "output_type": "stream",
          "name": "stdout",
          "text": [
            "Requirement already satisfied: pyspark in /usr/local/lib/python3.10/dist-packages (3.5.1)\n",
            "Requirement already satisfied: py4j==0.10.9.7 in /usr/local/lib/python3.10/dist-packages (from pyspark) (0.10.9.7)\n",
            "Requirement already satisfied: nltk in /usr/local/lib/python3.10/dist-packages (3.8.1)\n",
            "Requirement already satisfied: click in /usr/local/lib/python3.10/dist-packages (from nltk) (8.1.7)\n",
            "Requirement already satisfied: joblib in /usr/local/lib/python3.10/dist-packages (from nltk) (1.4.2)\n",
            "Requirement already satisfied: regex>=2021.8.3 in /usr/local/lib/python3.10/dist-packages (from nltk) (2023.12.25)\n",
            "Requirement already satisfied: tqdm in /usr/local/lib/python3.10/dist-packages (from nltk) (4.66.4)\n"
          ]
        }
      ],
      "source": [
        "# Install Spark 3.5.0\n",
        "!apt-get install openjdk-8-jdk-headless -qq > /dev/null\n",
        "!wget -q https://archive.apache.org/dist/spark/spark-3.5.0/spark-3.5.0-bin-hadoop3.tgz\n",
        "!tar xf spark-3.5.0-bin-hadoop3.tgz\n",
        "\n",
        "# Set Environment Variables\n",
        "import os\n",
        "os.environ[\"JAVA_HOME\"] = \"/usr/lib/jvm/java-8-openjdk-amd64\"\n",
        "os.environ[\"SPARK_HOME\"] = \"/content/spark-3.5.0-bin-hadoop3\"\n",
        "\n",
        "# Install PySpark\n",
        "!pip install -q findspark\n",
        "!pip install pyspark\n",
        "\n",
        "# Install nltk\n",
        "!pip install nltk\n",
        "\n",
        "import findspark\n",
        "findspark.init()"
      ]
    },
    {
      "cell_type": "code",
      "execution_count": 104,
      "metadata": {
        "id": "os-ygJZHYeiP",
        "colab": {
          "base_uri": "https://localhost:8080/"
        },
        "outputId": "ba6690c3-b09c-4d8c-a184-3dcfc58b7673"
      },
      "outputs": [
        {
          "output_type": "stream",
          "name": "stdout",
          "text": [
            "justice.csv  spark-3.5.0-bin-hadoop3\t  spark-3.5.0-bin-hadoop3.tgz.1\n",
            "sample_data  spark-3.5.0-bin-hadoop3.tgz  spark-3.5.0-bin-hadoop3.tgz.2\n"
          ]
        }
      ],
      "source": [
        "from pyspark.sql import SparkSession\n",
        "APP_NAME = \"Machine_Court_Justice\"\n",
        "SPARK_URL = \"local[*]\"\n",
        "spark = SparkSession.builder.appName(APP_NAME).getOrCreate()\n",
        "\n",
        "!ls /content/"
      ]
    },
    {
      "cell_type": "code",
      "execution_count": 105,
      "metadata": {
        "colab": {
          "base_uri": "https://localhost:8080/"
        },
        "id": "QtjHY-y5Yefd",
        "outputId": "0a050f0d-2d56-4093-c27d-9e9b6d2d27c6"
      },
      "outputs": [
        {
          "output_type": "stream",
          "name": "stdout",
          "text": [
            "Download complete\n",
            "-----------------\n",
            "justice.csv  spark-3.5.0-bin-hadoop3\t  spark-3.5.0-bin-hadoop3.tgz.1\n",
            "sample_data  spark-3.5.0-bin-hadoop3.tgz  spark-3.5.0-bin-hadoop3.tgz.2\n"
          ]
        }
      ],
      "source": [
        "# Authenticate to GCS.\n",
        "from google.colab import auth\n",
        "auth.authenticate_user()\n",
        "\n",
        "# https://cloud.google.com/resource-manager/docs/creating-managing-projects\n",
        "project_id = 'machine-court-justice'\n",
        "bucket_name = 'supreme-data'\n",
        "object_name = 'justice.csv'\n",
        "\n",
        "# creating the service client\n",
        "from googleapiclient.discovery import build\n",
        "gcs_service = build('storage', 'v1')\n",
        "\n",
        "from apiclient.http import MediaIoBaseDownload\n",
        "\n",
        "with open(f\"/content/{object_name}\", 'wb') as f:\n",
        "  # downloading file from storage bucket\n",
        "  request = gcs_service.objects().get_media(bucket=bucket_name,\n",
        "                                            object=object_name)\n",
        "  media = MediaIoBaseDownload(f, request)\n",
        "\n",
        "  done = False\n",
        "  while not done:\n",
        "    _, done = media.next_chunk()\n",
        "\n",
        "print('Download complete')\n",
        "print('-----------------')\n",
        "# inspecting the file in /tmp\n",
        "!ls /content/"
      ]
    },
    {
      "cell_type": "markdown",
      "source": [
        "## Relevant Features for Predicting 'first_party_winner'\n",
        "\n",
        "To predict the 'first_party_winner' in Supreme Court cases, more than a few features from the dataset may be relevant:\n",
        "\n",
        "- `term`: The year of the trial. The significance lies mainly in its historical context--including changes in law, social attitudes, and the composition of the court--could influence case outcomes.\n",
        "  \n",
        "- `facts`: A textual description of the case. The specifics of the case, which could indicate the strength of the arguments, legal precedents, evidence, and the social or political climate surrounding the case.\n",
        "  \n",
        "- `facts_len`: The length of the case facts. This could be an indirect measure of the case's complexity or detail involved, potentially correlating with the case outcome.\n",
        "  \n",
        "- `majority_vote`: The number of justices in favor of the case outcome. A higher majority may reflect stronger agreement or consensus on the legal issues at stake, which could be tied to the nature of cases that succeed.\n",
        "  \n",
        "- `minority_vote`: The number of justices against the case outcome. Similar to majority votes, the size of the minority can provide insights into the court's division on certain issues.\n",
        "  \n",
        "- `decision_type`: The nature of the court's opinion (e.g., majority opinion, per curiam). Different decision types may have varying implications for the predictability of case outcomes based on legal reasoning and precedent.\n",
        "  \n",
        "- `disposition`: The final disposition of the case (e.g., reversed, affirmed). The disposition reflects the lower court's decision's fate and may correlate with certain types of cases being more likely to win.\n",
        "  \n",
        "- `issue_area`: The legal domain or issue area the case pertains to (e.g., Civil Rights, Due Process). Specific issue areas might have historical trends in favoring one party over another due to legal precedents, societal values, or the specific legal challenges inherent to that area.\n",
        "\n",
        "- `facts_sentiment`: The emotional tone of the case description. Sentiment analysis on the case facts can reveal underlying positive, negative, or neutral sentiments, which might correlate with the case outcome or the justices' decisions. This self-defined feature (with a score) can provide a unique perspective on the emotional context of each case, potentially influencing or reflecting the arguments' strengths, public opinion, or the societal impact of the decision."
      ],
      "metadata": {
        "id": "8NgvwnB4Snz4"
      }
    },
    {
      "cell_type": "code",
      "execution_count": 106,
      "metadata": {
        "id": "XsWZzGAPYpei"
      },
      "outputs": [],
      "source": [
        "# defining this schema was necessary because the dataframe kept populating with null values when originally loading in data like this: supreme = spark.read.csv('/content/justice.csv', header=True, inferSchema=True)\n",
        "from pyspark.sql.types import StructType, StructField, StringType, IntegerType\n",
        "\n",
        "schema = StructType([\n",
        "    StructField(\"_c0\", StringType(), True),\n",
        "    StructField(\"ID\", IntegerType(), True),\n",
        "    StructField(\"name\", StringType(), True),\n",
        "    StructField(\"href\", StringType(), True),\n",
        "    StructField(\"docket\", StringType(), True),\n",
        "    StructField(\"term\", IntegerType(), True),\n",
        "    StructField(\"first_party\", StringType(), True),\n",
        "    StructField(\"second_party\", StringType(), True),\n",
        "    StructField(\"facts\", StringType(), True),\n",
        "    StructField(\"facts_len\", IntegerType(), True),\n",
        "    StructField(\"majority_vote\", IntegerType(), True),\n",
        "    StructField(\"minority_vote\", IntegerType(), True),\n",
        "    StructField(\"first_party_winner\", StringType(), True),\n",
        "    StructField(\"decision_type\", StringType(), True),\n",
        "    StructField(\"disposition\", StringType(), True),\n",
        "    StructField(\"issue_area\", StringType(), True),\n",
        "])"
      ]
    },
    {
      "cell_type": "code",
      "execution_count": 107,
      "metadata": {
        "id": "YCQehYatYpcc"
      },
      "outputs": [],
      "source": [
        "# loading in file from /tmp\n",
        "supreme = spark.read.csv(\n",
        "    path='/content/justice.csv',\n",
        "    schema=schema,\n",
        "    header=True,\n",
        "    multiLine=True,\n",
        "    escape='\"',\n",
        "    quote='\"'\n",
        ")"
      ]
    },
    {
      "cell_type": "markdown",
      "source": [
        "### GCS Error (local workaround):\n",
        "If the provided GCS bucket is unavailable at any point in the future, utilize the 'justice.csv' file within the repository, place it somewhere in google drive, then uncomment the below code and update the `path/to/justice.csv` section to indicate the appropriate file path"
      ],
      "metadata": {
        "id": "tUmUkRAQmNBC"
      }
    },
    {
      "cell_type": "code",
      "source": [
        "''' from google.colab import drive\n",
        "drive.mount('/content/gdrive')\n",
        "\n",
        "file_path = '/content/gdrive/My Drive/path/to/justice.csv'\n",
        "\n",
        "supreme = spark.read.csv(file_path, header=True, multiLine=True, escape='\"', quote='\"', schema=schema)\n",
        "supreme.show(20) '''"
      ],
      "metadata": {
        "colab": {
          "base_uri": "https://localhost:8080/",
          "height": 53
        },
        "id": "_IjJ0UVYmOaz",
        "outputId": "9cec7bfb-edd9-4c97-f632-d388ee7dcfbe"
      },
      "execution_count": 108,
      "outputs": [
        {
          "output_type": "execute_result",
          "data": {
            "text/plain": [
              "' from google.colab import drive\\ndrive.mount(\\'/content/gdrive\\')\\n\\nfile_path = \\'/content/gdrive/My Drive/path/to/justice.csv\\'\\n\\nsupreme = spark.read.csv(file_path, header=True, multiLine=True, escape=\\'\"\\', quote=\\'\"\\', schema=schema)\\nsupreme.show(20) '"
            ],
            "application/vnd.google.colaboratory.intrinsic+json": {
              "type": "string"
            }
          },
          "metadata": {},
          "execution_count": 108
        }
      ]
    },
    {
      "cell_type": "markdown",
      "source": [
        "Here, we're changing the first_party_winner feature into a binary column of 1's and 0's. 1 being True and 0 being False (for later use)."
      ],
      "metadata": {
        "id": "ZKQldHkDPAG1"
      }
    },
    {
      "cell_type": "code",
      "source": [
        "from pyspark.sql.functions import when\n",
        "\n",
        "# converting 'first_party_winner' from 'True'/'False' to 1/0\n",
        "supreme = supreme.withColumn(\"first_party_winner\", when(supreme[\"first_party_winner\"] == \"True\", 1).otherwise(0))\n",
        "\n",
        "# making sure 'first_party_winner' is an integer type\n",
        "supreme = supreme.withColumn(\"first_party_winner\", supreme[\"first_party_winner\"].cast(\"integer\"))"
      ],
      "metadata": {
        "id": "aKezNG_wNore"
      },
      "execution_count": 109,
      "outputs": []
    },
    {
      "cell_type": "code",
      "source": [
        "supreme.select('first_party_winner').show(10)"
      ],
      "metadata": {
        "colab": {
          "base_uri": "https://localhost:8080/"
        },
        "id": "URggBVuAPh1k",
        "outputId": "b6df1107-4275-45db-d40e-6c13a5701126"
      },
      "execution_count": 110,
      "outputs": [
        {
          "output_type": "stream",
          "name": "stdout",
          "text": [
            "+------------------+\n",
            "|first_party_winner|\n",
            "+------------------+\n",
            "|                 1|\n",
            "|                 1|\n",
            "|                 1|\n",
            "|                 1|\n",
            "|                 1|\n",
            "|                 1|\n",
            "|                 0|\n",
            "|                 1|\n",
            "|                 0|\n",
            "|                 0|\n",
            "+------------------+\n",
            "only showing top 10 rows\n",
            "\n"
          ]
        }
      ]
    },
    {
      "cell_type": "code",
      "source": [
        "supreme.printSchema()"
      ],
      "metadata": {
        "id": "qUDyZZfhNcqR",
        "colab": {
          "base_uri": "https://localhost:8080/"
        },
        "outputId": "620c8050-ce14-4656-9b91-87e4d46171e1"
      },
      "execution_count": 111,
      "outputs": [
        {
          "output_type": "stream",
          "name": "stdout",
          "text": [
            "root\n",
            " |-- _c0: string (nullable = true)\n",
            " |-- ID: integer (nullable = true)\n",
            " |-- name: string (nullable = true)\n",
            " |-- href: string (nullable = true)\n",
            " |-- docket: string (nullable = true)\n",
            " |-- term: integer (nullable = true)\n",
            " |-- first_party: string (nullable = true)\n",
            " |-- second_party: string (nullable = true)\n",
            " |-- facts: string (nullable = true)\n",
            " |-- facts_len: integer (nullable = true)\n",
            " |-- majority_vote: integer (nullable = true)\n",
            " |-- minority_vote: integer (nullable = true)\n",
            " |-- first_party_winner: integer (nullable = false)\n",
            " |-- decision_type: string (nullable = true)\n",
            " |-- disposition: string (nullable = true)\n",
            " |-- issue_area: string (nullable = true)\n",
            "\n"
          ]
        }
      ]
    },
    {
      "cell_type": "code",
      "source": [
        "supreme.show(10)"
      ],
      "metadata": {
        "id": "Z7_sCinWJOqS",
        "colab": {
          "base_uri": "https://localhost:8080/"
        },
        "outputId": "c8aab2f2-a322-46bd-d17f-0792e00208c8"
      },
      "execution_count": 112,
      "outputs": [
        {
          "output_type": "stream",
          "name": "stdout",
          "text": [
            "+---+-----+--------------------+--------------------+-------+----+--------------------+--------------------+--------------------+---------+-------------+-------------+------------------+----------------+-----------------+------------------+\n",
            "|_c0|   ID|                name|                href| docket|term|         first_party|        second_party|               facts|facts_len|majority_vote|minority_vote|first_party_winner|   decision_type|      disposition|        issue_area|\n",
            "+---+-----+--------------------+--------------------+-------+----+--------------------+--------------------+--------------------+---------+-------------+-------------+------------------+----------------+-----------------+------------------+\n",
            "|  0|50606|         Roe v. Wade|https://api.oyez....|  70-18|1971|            Jane Roe|          Henry Wade|<p>In 1970, Jane ...|      501|            7|            2|                 1|majority opinion|         reversed|              NULL|\n",
            "|  1|50613| Stanley v. Illinois|https://api.oyez....|70-5014|1971| Peter Stanley, Sr. |            Illinois|<p>Joan Stanley h...|      757|            5|            2|                 1|majority opinion|reversed/remanded|      Civil Rights|\n",
            "|  2|50623|Giglio v. United ...|https://api.oyez....|  70-29|1971|        John Giglio |       United States|<p>John Giglio wa...|      495|            7|            0|                 1|majority opinion|reversed/remanded|       Due Process|\n",
            "|  3|50632|        Reed v. Reed|https://api.oyez....|   70-4|1971|          Sally Reed|          Cecil Reed|<p>The Idaho Prob...|      378|            7|            0|                 1|majority opinion|reversed/remanded|      Civil Rights|\n",
            "|  4|50643|Miller v. California|https://api.oyez....|  70-73|1971|       Marvin Miller|          California|<p>Miller, after ...|      305|            5|            4|                 1|majority opinion| vacated/remanded|   First Amendment|\n",
            "|  5|50644|Kleindienst v. Ma...|https://api.oyez....|  71-16|1971|Richard G. Kleind...|Ernest E. Mandel,...|<p>Ernest E. Mand...|     2282|            6|            3|                 1|majority opinion|         reversed|   First Amendment|\n",
            "|  6|50655|Sarno v. Illinois...|https://api.oyez....|   70-7|1971|               Sarno|Illinois Crime In...|<p>The Illinois C...|     1424|            5|            2|                 0|      per curiam|             NULL|Criminal Procedure|\n",
            "|  7|50656|Argersinger v. Ha...|https://api.oyez....|70-5015|1971|         Argersinger|              Hamlin|<p>Jon Argersinge...|      347|            9|            0|                 1|majority opinion|         reversed|Criminal Procedure|\n",
            "|  8|50657| Eisenstadt v. Baird|https://api.oyez....|  70-17|1971|          Eisenstadt|               Baird|<p>William Baird ...|      420|            6|            1|                 0|majority opinion|         affirmed|           Privacy|\n",
            "|  9|50663|   Gooding v. Wilson|https://api.oyez....|  70-26|1971|             Gooding|              Wilson|<p>A Georgia stat...|      612|            5|            2|                 0|majority opinion|         affirmed|   First Amendment|\n",
            "+---+-----+--------------------+--------------------+-------+----+--------------------+--------------------+--------------------+---------+-------------+-------------+------------------+----------------+-----------------+------------------+\n",
            "only showing top 10 rows\n",
            "\n"
          ]
        }
      ]
    },
    {
      "cell_type": "markdown",
      "source": [
        "Basic Statistics"
      ],
      "metadata": {
        "id": "90x8jIt-Vu57"
      }
    },
    {
      "cell_type": "code",
      "execution_count": 113,
      "metadata": {
        "id": "6Zfcxh6DYpZ1",
        "colab": {
          "base_uri": "https://localhost:8080/"
        },
        "outputId": "cfa24a64-533e-453e-a584-6c08a6099c69"
      },
      "outputs": [
        {
          "output_type": "stream",
          "name": "stdout",
          "text": [
            "+-------+------------------+-----------------+-----------------+------------------+------------------+\n",
            "|summary|              term|        facts_len|    majority_vote|     minority_vote|first_party_winner|\n",
            "+-------+------------------+-----------------+-----------------+------------------+------------------+\n",
            "|  count|              3244|             3303|             3303|              3303|              3303|\n",
            "|   mean|1996.0511713933415|1112.496821071753|7.009688162276718|1.7278231910384498|0.6478958522555253|\n",
            "| stddev|16.646193150142015|531.5149604241067|1.726243964495383|1.6044601153923355|0.4776985496658636|\n",
            "|    min|              1955|               26|                0|                 0|                 0|\n",
            "|    max|              2020|             6201|                9|                 4|                 1|\n",
            "+-------+------------------+-----------------+-----------------+------------------+------------------+\n",
            "\n"
          ]
        }
      ],
      "source": [
        "supreme.describe().select('summary', 'term', 'facts_len', 'majority_vote', 'minority_vote', 'first_party_winner').show()"
      ]
    },
    {
      "cell_type": "markdown",
      "metadata": {
        "id": "qyeYTBTueyOZ"
      },
      "source": [
        "## Histograms of Relevant Features"
      ]
    },
    {
      "cell_type": "markdown",
      "metadata": {
        "id": "iOEbmVHUZVIc"
      },
      "source": [
        "Term Distribution"
      ]
    },
    {
      "cell_type": "code",
      "execution_count": 114,
      "metadata": {
        "id": "FVN50NDRX6VZ"
      },
      "outputs": [],
      "source": [
        "term_counts = supreme.groupBy(\"term\").count()\n",
        "term_counts = term_counts.collect()"
      ]
    },
    {
      "cell_type": "code",
      "execution_count": 115,
      "metadata": {
        "id": "zB9J283yYwEW"
      },
      "outputs": [],
      "source": [
        "import pandas as pd\n",
        "\n",
        "# converting to pandas for plotting\n",
        "term_counts_pd = pd.DataFrame(term_counts, columns=['Term', 'Count'])"
      ]
    },
    {
      "cell_type": "code",
      "execution_count": 116,
      "metadata": {
        "id": "o4lEjoW_YxVx",
        "colab": {
          "base_uri": "https://localhost:8080/",
          "height": 844
        },
        "outputId": "e0a158b1-937c-4361-a8e5-9cb15d31b356"
      },
      "outputs": [
        {
          "output_type": "stream",
          "name": "stderr",
          "text": [
            "<ipython-input-116-e6f919ee1f66>:5: FutureWarning: \n",
            "\n",
            "Passing `palette` without assigning `hue` is deprecated and will be removed in v0.14.0. Assign the `x` variable to `hue` and set `legend=False` for the same effect.\n",
            "\n",
            "  sns.barplot(x='Term', y='Count', data=term_counts_pd, palette='husl')\n"
          ]
        },
        {
          "output_type": "display_data",
          "data": {
            "text/plain": [
              "<Figure size 1000x800 with 1 Axes>"
            ],
            "image/png": "[encoded data removed]"
          },
          "metadata": {}
        }
      ],
      "source": [
        "import seaborn as sns\n",
        "import matplotlib.pyplot as plt\n",
        "\n",
        "plt.figure(figsize=(10, 8))\n",
        "sns.barplot(x='Term', y='Count', data=term_counts_pd, palette='husl')\n",
        "\n",
        "plt.xlabel('Term')\n",
        "plt.ylabel('Count')\n",
        "plt.title('Histogram of Terms')\n",
        "plt.xticks(rotation=73)\n",
        "plt.show()"
      ]
    },
    {
      "cell_type": "markdown",
      "metadata": {
        "id": "q-7zmJ5nZuad"
      },
      "source": [
        "Facts (len) distribution"
      ]
    },
    {
      "cell_type": "code",
      "execution_count": 117,
      "metadata": {
        "id": "x-M-e_q4Zv_G"
      },
      "outputs": [],
      "source": [
        "factslen_counts = supreme.groupBy(\"facts_len\").count()\n",
        "factslen_counts = factslen_counts.collect()\n",
        "factslen_counts_pd = pd.DataFrame(factslen_counts, columns=['Facts_len', 'Count'])"
      ]
    },
    {
      "cell_type": "code",
      "execution_count": 118,
      "metadata": {
        "id": "jeszl0hSaVy8",
        "colab": {
          "base_uri": "https://localhost:8080/",
          "height": 410
        },
        "outputId": "2643f455-e86c-4fc0-9b37-f93cdf85f08f"
      },
      "outputs": [
        {
          "output_type": "display_data",
          "data": {
            "text/plain": [
              "<Figure size 800x400 with 1 Axes>"
            ],
            "image/png": "[encoded data removed]"
          },
          "metadata": {}
        }
      ],
      "source": [
        "plt.figure(figsize=(8, 4))\n",
        "sns.histplot(data=factslen_counts_pd, x='Facts_len', weights='Count', bins=50)\n",
        "\n",
        "plt.xlabel('Facts_len')\n",
        "plt.ylabel('Count')\n",
        "plt.title('Length of Facts Histogram')\n",
        "plt.show()"
      ]
    },
    {
      "cell_type": "markdown",
      "metadata": {
        "id": "KPIKNtHaaWTo"
      },
      "source": [
        "Distribution of Majority Vote"
      ]
    },
    {
      "cell_type": "code",
      "execution_count": 119,
      "metadata": {
        "id": "WnQJK5ZhSmc_"
      },
      "outputs": [],
      "source": [
        "maj_vote_counts = supreme.groupBy(\"majority_vote\").count()\n",
        "maj_vote_counts = maj_vote_counts.collect()\n",
        "maj_vote_counts_pd = pd.DataFrame(maj_vote_counts, columns=['Majority Vote', 'Count'])"
      ]
    },
    {
      "cell_type": "code",
      "execution_count": 120,
      "metadata": {
        "id": "Ibgr7qHcSmc_",
        "colab": {
          "base_uri": "https://localhost:8080/",
          "height": 499
        },
        "outputId": "0db29874-c0da-4c4f-f771-0203c189260c"
      },
      "outputs": [
        {
          "output_type": "stream",
          "name": "stderr",
          "text": [
            "<ipython-input-120-ee9dbfad2a28>:2: FutureWarning: \n",
            "\n",
            "Passing `palette` without assigning `hue` is deprecated and will be removed in v0.14.0. Assign the `x` variable to `hue` and set `legend=False` for the same effect.\n",
            "\n",
            "  sns.barplot(x='Majority Vote', y='Count', data=maj_vote_counts_pd, palette='husl')\n"
          ]
        },
        {
          "output_type": "display_data",
          "data": {
            "text/plain": [
              "<Figure size 600x400 with 1 Axes>"
            ],
            "image/png": "[encoded data removed]"
          },
          "metadata": {}
        }
      ],
      "source": [
        "plt.figure(figsize=(6, 4))\n",
        "sns.barplot(x='Majority Vote', y='Count', data=maj_vote_counts_pd, palette='husl')\n",
        "\n",
        "plt.xlabel('Majority Vote')\n",
        "plt.ylabel('Count')\n",
        "plt.title('Distribution of Majority Votes')\n",
        "plt.show()"
      ]
    },
    {
      "cell_type": "markdown",
      "metadata": {
        "id": "UPUDTP1BaVpC"
      },
      "source": [
        "Distribution of Minority Vote"
      ]
    },
    {
      "cell_type": "code",
      "execution_count": 121,
      "metadata": {
        "id": "T5Gm72q5Smc_"
      },
      "outputs": [],
      "source": [
        "min_vote_counts = supreme.groupBy(\"minority_vote\").count()\n",
        "min_vote_counts = min_vote_counts.collect()\n",
        "min_vote_counts_pd = pd.DataFrame(min_vote_counts, columns=['Minority Vote', 'Count'])"
      ]
    },
    {
      "cell_type": "code",
      "execution_count": 122,
      "metadata": {
        "id": "hynm30FXSmc_",
        "colab": {
          "base_uri": "https://localhost:8080/",
          "height": 499
        },
        "outputId": "87ab0b70-c69b-43c2-9643-722fbc8e7bb0"
      },
      "outputs": [
        {
          "output_type": "stream",
          "name": "stderr",
          "text": [
            "<ipython-input-122-368e7b8eaf8e>:2: FutureWarning: \n",
            "\n",
            "Passing `palette` without assigning `hue` is deprecated and will be removed in v0.14.0. Assign the `x` variable to `hue` and set `legend=False` for the same effect.\n",
            "\n",
            "  sns.barplot(x='Minority Vote', y='Count', data=min_vote_counts_pd, palette='husl')\n"
          ]
        },
        {
          "output_type": "display_data",
          "data": {
            "text/plain": [
              "<Figure size 600x400 with 1 Axes>"
            ],
            "image/png": "[encoded data removed]"
          },
          "metadata": {}
        }
      ],
      "source": [
        "plt.figure(figsize=(6, 4))\n",
        "sns.barplot(x='Minority Vote', y='Count', data=min_vote_counts_pd, palette='husl')\n",
        "\n",
        "plt.xlabel('Minority Vote')\n",
        "plt.ylabel('Count')\n",
        "plt.title('Distribution of Minority Votes')\n",
        "plt.show()"
      ]
    },
    {
      "cell_type": "markdown",
      "metadata": {
        "id": "6pqQG6r6Smc_"
      },
      "source": [
        "Distribution of Decision Type"
      ]
    },
    {
      "cell_type": "code",
      "execution_count": 123,
      "metadata": {
        "id": "B6oOqGvESmc_"
      },
      "outputs": [],
      "source": [
        "dec_type_counts = supreme.groupBy(\"decision_type\").count()\n",
        "dec_type_counts = dec_type_counts.collect()\n",
        "dec_type_counts_pd = pd.DataFrame(dec_type_counts, columns=['Decision Type', 'Count'])"
      ]
    },
    {
      "cell_type": "code",
      "execution_count": 124,
      "metadata": {
        "id": "1yPKme5ZSmc_",
        "colab": {
          "base_uri": "https://localhost:8080/",
          "height": 635
        },
        "outputId": "8207e438-daef-4a52-da3d-bc73e95b6e3c"
      },
      "outputs": [
        {
          "output_type": "stream",
          "name": "stderr",
          "text": [
            "<ipython-input-124-ce4475c56b8a>:2: FutureWarning: \n",
            "\n",
            "Passing `palette` without assigning `hue` is deprecated and will be removed in v0.14.0. Assign the `x` variable to `hue` and set `legend=False` for the same effect.\n",
            "\n",
            "  sns.barplot(x='Decision Type', y='Count', data=dec_type_counts_pd, palette='husl')\n"
          ]
        },
        {
          "output_type": "display_data",
          "data": {
            "text/plain": [
              "<Figure size 600x300 with 1 Axes>"
            ],
            "image/png": "[encoded data removed]"
          },
          "metadata": {}
        }
      ],
      "source": [
        "plt.figure(figsize=(6, 3))\n",
        "sns.barplot(x='Decision Type', y='Count', data=dec_type_counts_pd, palette='husl')\n",
        "\n",
        "plt.xlabel('Decision Type')\n",
        "plt.ylabel('Count')\n",
        "plt.title('Distribution of Decision Types')\n",
        "plt.xticks(rotation=73)\n",
        "plt.show()"
      ]
    },
    {
      "cell_type": "markdown",
      "metadata": {
        "id": "VW6Jue3jSmc_"
      },
      "source": [
        "Disposition Distribution"
      ]
    },
    {
      "cell_type": "code",
      "execution_count": 125,
      "metadata": {
        "id": "A3cL2g16SmdA"
      },
      "outputs": [],
      "source": [
        "disp_counts = supreme.groupBy(\"disposition\").count()\n",
        "disp_counts = disp_counts.collect()\n",
        "disp_counts_pd = pd.DataFrame(disp_counts, columns=['Disposition', 'Count'])"
      ]
    },
    {
      "cell_type": "code",
      "execution_count": 126,
      "metadata": {
        "id": "pWAQ6QiWSmdA",
        "colab": {
          "base_uri": "https://localhost:8080/",
          "height": 591
        },
        "outputId": "ef6ac9a5-7ee1-4010-f793-db15319e6081"
      },
      "outputs": [
        {
          "output_type": "stream",
          "name": "stderr",
          "text": [
            "<ipython-input-126-45839b14f709>:2: FutureWarning: \n",
            "\n",
            "Passing `palette` without assigning `hue` is deprecated and will be removed in v0.14.0. Assign the `x` variable to `hue` and set `legend=False` for the same effect.\n",
            "\n",
            "  sns.barplot(x='Disposition', y='Count', data=disp_counts_pd, palette='husl')\n"
          ]
        },
        {
          "output_type": "display_data",
          "data": {
            "text/plain": [
              "<Figure size 600x300 with 1 Axes>"
            ],
            "image/png": "[encoded data removed]"
          },
          "metadata": {}
        }
      ],
      "source": [
        "plt.figure(figsize=(6, 3))\n",
        "sns.barplot(x='Disposition', y='Count', data=disp_counts_pd, palette='husl')\n",
        "\n",
        "plt.xlabel('Disposition')\n",
        "plt.ylabel('Count')\n",
        "plt.title('Distribution of Dispositions')\n",
        "plt.xticks(rotation=73)\n",
        "plt.show()"
      ]
    },
    {
      "cell_type": "markdown",
      "metadata": {
        "id": "qronOSOpSmdA"
      },
      "source": [
        "Distribution of Issue Areas"
      ]
    },
    {
      "cell_type": "code",
      "execution_count": 127,
      "metadata": {
        "id": "PER0MH6qSmdA"
      },
      "outputs": [],
      "source": [
        "issue_counts = supreme.groupBy(\"issue_area\").count()\n",
        "issue_counts = issue_counts.collect()\n",
        "issue_counts_pd = pd.DataFrame(issue_counts, columns=['Issue Area', 'Count'])"
      ]
    },
    {
      "cell_type": "code",
      "execution_count": 128,
      "metadata": {
        "id": "UkSpYCFsSmdA",
        "colab": {
          "base_uri": "https://localhost:8080/",
          "height": 542
        },
        "outputId": "597aa523-31a5-4636-8166-0fcf55598e5a"
      },
      "outputs": [
        {
          "output_type": "stream",
          "name": "stderr",
          "text": [
            "<ipython-input-128-a9493370447f>:2: FutureWarning: \n",
            "\n",
            "Passing `palette` without assigning `hue` is deprecated and will be removed in v0.14.0. Assign the `x` variable to `hue` and set `legend=False` for the same effect.\n",
            "\n",
            "  sns.barplot(x='Issue Area', y='Count', data=issue_counts_pd, palette='husl')\n"
          ]
        },
        {
          "output_type": "display_data",
          "data": {
            "text/plain": [
              "<Figure size 800x300 with 1 Axes>"
            ],
            "image/png": "[encoded data removed]"
          },
          "metadata": {}
        }
      ],
      "source": [
        "plt.figure(figsize=(8, 3))\n",
        "sns.barplot(x='Issue Area', y='Count', data=issue_counts_pd, palette='husl')\n",
        "\n",
        "plt.xlabel('Issue Area')\n",
        "plt.ylabel('Count')\n",
        "plt.title('Distribution of Issue Areas')\n",
        "plt.xticks(rotation=73)\n",
        "plt.show()"
      ]
    },
    {
      "cell_type": "markdown",
      "source": [
        "taking a look at the distribution of case outcomes throughout"
      ],
      "metadata": {
        "id": "IGknSiHwWWfz"
      }
    },
    {
      "cell_type": "code",
      "source": [
        "judgement_counts = supreme.groupBy(\"first_party_winner\").count()\n",
        "judgement_counts = judgement_counts.collect()\n",
        "judgement_counts_pd = pd.DataFrame(judgement_counts, columns=['Judgement', 'Count'])"
      ],
      "metadata": {
        "id": "0Iu2qosiWWF5"
      },
      "execution_count": 129,
      "outputs": []
    },
    {
      "cell_type": "code",
      "source": [
        "plt.figure(figsize=(4, 3))\n",
        "sns.barplot(x='Judgement', y='Count', data=judgement_counts_pd, palette='coolwarm')\n",
        "\n",
        "plt.xlabel('Final Decisions (1 = Win; 0 = Loss) ')\n",
        "plt.ylabel('Count')\n",
        "plt.title('Distribution of Final Decisions for First Party')\n",
        "#plt.xticks(rotation=73)\n",
        "plt.show()"
      ],
      "metadata": {
        "id": "4WuYgrZdWzcP",
        "colab": {
          "base_uri": "https://localhost:8080/",
          "height": 422
        },
        "outputId": "836c3156-ad85-4ee3-ff2f-32bc1e7fbf5b"
      },
      "execution_count": 130,
      "outputs": [
        {
          "output_type": "stream",
          "name": "stderr",
          "text": [
            "<ipython-input-130-0f47c4bd6082>:2: FutureWarning: \n",
            "\n",
            "Passing `palette` without assigning `hue` is deprecated and will be removed in v0.14.0. Assign the `x` variable to `hue` and set `legend=False` for the same effect.\n",
            "\n",
            "  sns.barplot(x='Judgement', y='Count', data=judgement_counts_pd, palette='coolwarm')\n"
          ]
        },
        {
          "output_type": "display_data",
          "data": {
            "text/plain": [
              "<Figure size 400x300 with 1 Axes>"
            ],
            "image/png": "[encoded data removed]"
          },
          "metadata": {}
        }
      ]
    },
    {
      "cell_type": "markdown",
      "metadata": {
        "id": "pD5hhFUJe4st"
      },
      "source": [
        "## Range of values using Spark SQL for relevant features"
      ]
    },
    {
      "cell_type": "code",
      "execution_count": 131,
      "metadata": {
        "id": "XWYfKHEde6_4"
      },
      "outputs": [],
      "source": [
        "supreme.createOrReplaceTempView(\"supreme\")"
      ]
    },
    {
      "cell_type": "code",
      "source": [
        "# the range of values for the term column\n",
        "spark.sql(\"SELECT MIN(term), MAX(term) FROM supreme\").show()"
      ],
      "metadata": {
        "id": "O70cLv7hWDW3",
        "colab": {
          "base_uri": "https://localhost:8080/"
        },
        "outputId": "f3791d04-dc4b-4ca5-b5ba-78b2813013b5"
      },
      "execution_count": 132,
      "outputs": [
        {
          "output_type": "stream",
          "name": "stdout",
          "text": [
            "+---------+---------+\n",
            "|min(term)|max(term)|\n",
            "+---------+---------+\n",
            "|     1955|     2020|\n",
            "+---------+---------+\n",
            "\n"
          ]
        }
      ]
    },
    {
      "cell_type": "code",
      "source": [
        "# the range of values for the facts_len column\n",
        "spark.sql(\"SELECT MIN(facts_len), MAX(facts_len) FROM supreme\").show()"
      ],
      "metadata": {
        "id": "M0G2AuKUWHOg",
        "colab": {
          "base_uri": "https://localhost:8080/"
        },
        "outputId": "4f15fc27-59a5-46da-ac3d-cee969e06ca4"
      },
      "execution_count": 133,
      "outputs": [
        {
          "output_type": "stream",
          "name": "stdout",
          "text": [
            "+--------------+--------------+\n",
            "|min(facts_len)|max(facts_len)|\n",
            "+--------------+--------------+\n",
            "|            26|          6201|\n",
            "+--------------+--------------+\n",
            "\n"
          ]
        }
      ]
    },
    {
      "cell_type": "code",
      "source": [
        "# the range of values for the majority_vote column\n",
        "spark.sql(\"SELECT MIN(majority_vote), MAX(majority_vote) FROM supreme\").show()"
      ],
      "metadata": {
        "id": "wyTC8sr0WJvy",
        "colab": {
          "base_uri": "https://localhost:8080/"
        },
        "outputId": "0509b1cd-f07c-41b6-d1e6-a1c33721d720"
      },
      "execution_count": 134,
      "outputs": [
        {
          "output_type": "stream",
          "name": "stdout",
          "text": [
            "+------------------+------------------+\n",
            "|min(majority_vote)|max(majority_vote)|\n",
            "+------------------+------------------+\n",
            "|                 0|                 9|\n",
            "+------------------+------------------+\n",
            "\n"
          ]
        }
      ]
    },
    {
      "cell_type": "code",
      "source": [
        "# the range of values for the minority_vote column\n",
        "spark.sql(\"SELECT MIN(minority_vote), MAX(minority_vote) FROM supreme\").show()"
      ],
      "metadata": {
        "id": "LYwDkt5WWLIp",
        "colab": {
          "base_uri": "https://localhost:8080/"
        },
        "outputId": "1cefefba-9b61-416c-a7ca-98887c21e2af"
      },
      "execution_count": 135,
      "outputs": [
        {
          "output_type": "stream",
          "name": "stdout",
          "text": [
            "+------------------+------------------+\n",
            "|min(minority_vote)|max(minority_vote)|\n",
            "+------------------+------------------+\n",
            "|                 0|                 4|\n",
            "+------------------+------------------+\n",
            "\n"
          ]
        }
      ]
    },
    {
      "cell_type": "code",
      "source": [
        "# the range of values for the decision_type column (truncated/unreadable line is: \"dismissal - improvidently granted\")\n",
        "# also taking note that there are 'null' categorical values for decision_type which don't need to be cleaned up later (confirmed when looking at dataframe during dropping rows section)\n",
        "spark.sql(\"SELECT decision_type, count(*) as count FROM supreme GROUP BY decision_type ORDER BY count DESC\").show()"
      ],
      "metadata": {
        "id": "h5tpD96KWU94",
        "colab": {
          "base_uri": "https://localhost:8080/"
        },
        "outputId": "67305d79-ffbe-4e26-ad76-19076ada4b19"
      },
      "execution_count": 136,
      "outputs": [
        {
          "output_type": "stream",
          "name": "stdout",
          "text": [
            "+--------------------+-----+\n",
            "|       decision_type|count|\n",
            "+--------------------+-----+\n",
            "|    majority opinion| 2829|\n",
            "|          per curiam|  267|\n",
            "|   plurality opinion|  153|\n",
            "|     equally divided|   17|\n",
            "| dismissal - rule 46|    9|\n",
            "|   dismissal - other|    8|\n",
            "|                NULL|    7|\n",
            "|dismissal - impro...|    6|\n",
            "|    dismissal - moot|    5|\n",
            "|          memorandum|    1|\n",
            "|opinion of the court|    1|\n",
            "+--------------------+-----+\n",
            "\n"
          ]
        }
      ]
    },
    {
      "cell_type": "code",
      "source": [
        "# the range of values for the disposition column (truncated columns: \"reversed in-part/remanded\" & \"vacated in-part/remanded\")\n",
        "# also taking note here of the 'null' disposition categorical value ('none' is not to be confused with null, since it's possible not to have a disposition)\n",
        "spark.sql(\"SELECT disposition, count(*) as count FROM supreme GROUP BY disposition ORDER by count DESC\").show()"
      ],
      "metadata": {
        "id": "saS0IIKoWNVZ",
        "colab": {
          "base_uri": "https://localhost:8080/"
        },
        "outputId": "b688cc47-3326-4252-8cdd-53ac461bcd37"
      },
      "execution_count": 137,
      "outputs": [
        {
          "output_type": "stream",
          "name": "stdout",
          "text": [
            "+--------------------+-----+\n",
            "|         disposition|count|\n",
            "+--------------------+-----+\n",
            "|   reversed/remanded| 1073|\n",
            "|            affirmed| 1007|\n",
            "|            reversed|  585|\n",
            "|    vacated/remanded|  430|\n",
            "|                NULL|   72|\n",
            "|reversed in-part/...|   61|\n",
            "|                none|   41|\n",
            "|    reversed in-part|   22|\n",
            "|             vacated|    7|\n",
            "|vacated in-part/r...|    5|\n",
            "+--------------------+-----+\n",
            "\n"
          ]
        }
      ]
    },
    {
      "cell_type": "code",
      "source": [
        "# the range of values for the issue_area column\n",
        "# \"NULL\" issue_area\n",
        "spark.sql(\"SELECT issue_area, count(*) as count FROM supreme GROUP BY issue_area ORDER by count DESC\").show()"
      ],
      "metadata": {
        "id": "tCrRhI2uWNTe",
        "colab": {
          "base_uri": "https://localhost:8080/"
        },
        "outputId": "3dde779c-38da-4999-da65-798792bbb963"
      },
      "execution_count": 138,
      "outputs": [
        {
          "output_type": "stream",
          "name": "stdout",
          "text": [
            "+--------------------+-----+\n",
            "|          issue_area|count|\n",
            "+--------------------+-----+\n",
            "|  Criminal Procedure|  859|\n",
            "|        Civil Rights|  568|\n",
            "|   Economic Activity|  542|\n",
            "|     First Amendment|  353|\n",
            "|      Judicial Power|  342|\n",
            "|                NULL|  142|\n",
            "|         Due Process|  128|\n",
            "|          Federalism|  125|\n",
            "|             Privacy|   70|\n",
            "|              Unions|   60|\n",
            "|    Federal Taxation|   51|\n",
            "|           Attorneys|   37|\n",
            "|       Miscellaneous|   20|\n",
            "|      Private Action|    4|\n",
            "|Interstate Relations|    2|\n",
            "+--------------------+-----+\n",
            "\n"
          ]
        }
      ]
    },
    {
      "cell_type": "code",
      "source": [
        "# the range of values for the first_party_winner column (this is binary!)\n",
        "spark.sql(\"SELECT MIN(first_party_winner), MAX(first_party_winner) FROM supreme\").show()"
      ],
      "metadata": {
        "id": "lkEJ8KjMWNRD",
        "colab": {
          "base_uri": "https://localhost:8080/"
        },
        "outputId": "7792acaf-b749-4e2a-be9b-7f7d17499aca"
      },
      "execution_count": 139,
      "outputs": [
        {
          "output_type": "stream",
          "name": "stdout",
          "text": [
            "+-----------------------+-----------------------+\n",
            "|min(first_party_winner)|max(first_party_winner)|\n",
            "+-----------------------+-----------------------+\n",
            "|                      0|                      1|\n",
            "+-----------------------+-----------------------+\n",
            "\n"
          ]
        }
      ]
    },
    {
      "cell_type": "markdown",
      "metadata": {
        "id": "hks2T3i8e7Oi"
      },
      "source": [
        "## Most common words/n-grams found"
      ]
    },
    {
      "cell_type": "code",
      "source": [
        "from pyspark.sql.functions import regexp_replace\n",
        "\n",
        "# replacing leading '<p>' and trailing '</p>' with an empty string--in addition to '\\n' characters\n",
        "supreme = supreme.withColumn(\"facts\", regexp_replace(\"facts\", \"^<p>|</p>|\\n$\", \"\"))"
      ],
      "metadata": {
        "id": "J4N6-Obf62VA"
      },
      "execution_count": 140,
      "outputs": []
    },
    {
      "cell_type": "markdown",
      "source": [
        "Most Common Words in facts"
      ],
      "metadata": {
        "id": "y8aAXEOXdRD1"
      }
    },
    {
      "cell_type": "code",
      "source": [
        "from pyspark.ml.feature import Tokenizer, StopWordsRemover\n",
        "from pyspark.sql.functions import col, explode\n",
        "\n",
        "# tokenizing the text\n",
        "tokenizer = Tokenizer(inputCol=\"facts\", outputCol=\"words\")\n",
        "words_df = tokenizer.transform(supreme)"
      ],
      "metadata": {
        "id": "iMM2cO6ldS-N"
      },
      "execution_count": 141,
      "outputs": []
    },
    {
      "cell_type": "code",
      "source": [
        "# Taking a look at words_df\n",
        "# words_df.select('words').show(10, truncate=False)"
      ],
      "metadata": {
        "id": "k7IMC__QfOUy"
      },
      "execution_count": 142,
      "outputs": []
    },
    {
      "cell_type": "code",
      "source": [
        "# removing stop words\n",
        "remover = StopWordsRemover(inputCol=\"words\", outputCol=\"filtered\")\n",
        "filtered_df = remover.transform(words_df)"
      ],
      "metadata": {
        "id": "70ZCpQQGeZRK"
      },
      "execution_count": 143,
      "outputs": []
    },
    {
      "cell_type": "code",
      "source": [
        "# checking against words_df for comparison\n",
        "# filtered_df.select('filtered').show(10, truncate=False)"
      ],
      "metadata": {
        "id": "5chNvJOgfPnl"
      },
      "execution_count": 144,
      "outputs": []
    },
    {
      "cell_type": "code",
      "source": [
        "# make each word occupy its own row\n",
        "word_per_row = filtered_df.withColumn(\"word\", explode(col(\"filtered\")))"
      ],
      "metadata": {
        "id": "Ss_sKktVeaFX"
      },
      "execution_count": 145,
      "outputs": []
    },
    {
      "cell_type": "code",
      "source": [
        "# counting and sorting words\n",
        "# finally, showing the top 20 most common words that are not stop words\n",
        "wordCounts = word_per_row.groupBy(\"word\").count().orderBy(col(\"count\").desc())\n",
        "wordCounts.show(n=20)"
      ],
      "metadata": {
        "id": "1laD1AVuebGO",
        "colab": {
          "base_uri": "https://localhost:8080/"
        },
        "outputId": "1d38dfb8-7d30-4873-d077-108f0c7efb38"
      },
      "execution_count": 146,
      "outputs": [
        {
          "output_type": "stream",
          "name": "stdout",
          "text": [
            "+--------+-----+\n",
            "|    word|count|\n",
            "+--------+-----+\n",
            "|   court| 9315|\n",
            "|district| 3872|\n",
            "| appeals| 2419|\n",
            "| federal| 2372|\n",
            "|   state| 2231|\n",
            "| circuit| 1928|\n",
            "|    u.s.| 1691|\n",
            "| supreme| 1568|\n",
            "|    held| 1553|\n",
            "|     act| 1474|\n",
            "|   filed| 1355|\n",
            "|        | 1099|\n",
            "|   found| 1047|\n",
            "|  argued| 1005|\n",
            "|     new|  984|\n",
            "|  united|  959|\n",
            "|  denied|  954|\n",
            "|  states|  916|\n",
            "|    case|  904|\n",
            "|violated|  903|\n",
            "+--------+-----+\n",
            "only showing top 20 rows\n",
            "\n"
          ]
        }
      ]
    },
    {
      "cell_type": "markdown",
      "source": [
        "N-grams Found"
      ],
      "metadata": {
        "id": "VS5_s-pudP9J"
      }
    },
    {
      "cell_type": "code",
      "execution_count": 147,
      "metadata": {
        "id": "P3h2O3x4e7ey"
      },
      "outputs": [],
      "source": [
        "from pyspark.ml.feature import NGram\n",
        "from pyspark.sql.functions import udf\n",
        "from pyspark.sql.types import ArrayType, StringType"
      ]
    },
    {
      "cell_type": "code",
      "source": [
        "# Creating n-grams\n",
        "ngram = NGram(n=2, inputCol=\"filtered\", outputCol=\"ngrams\")\n",
        "ngram_df = ngram.transform(filtered_df)"
      ],
      "metadata": {
        "id": "6S2jj8ciaBAu"
      },
      "execution_count": 148,
      "outputs": []
    },
    {
      "cell_type": "code",
      "source": [
        "ngram_df.select('ngrams').show(10, truncate=False)"
      ],
      "metadata": {
        "id": "0Dvz594sbgLB",
        "colab": {
          "base_uri": "https://localhost:8080/"
        },
        "outputId": "ddd390f1-9203-41dc-b5c9-1efb4749fbae"
      },
      "execution_count": 149,
      "outputs": [
        {
          "output_type": "stream",
          "name": "stdout",
          "text": [
            "+-------------------------------------------------------------------------------------------------------------------------------------------------------------------------------------------------------------------------------------------------------------------------------------------------------------------------------------------------------------------------------------------------------------------------------------------------------------------------------------------------------------------------------------------------------------------------------------------------------------------------------------------------------------------------------------------------------------------------------------------------------------------------------------------------------------------------------------------------------------------------------------------------------------------------------------------------------------------------------------------------------------------------------------------------------------------------------------------------------------------------------------------------------------------------------------------------------------------------------------------------------------------------------------------------------------------------------------------------------------------------------------------------------------------------------------------------------------------------------------------------------------------------------------------------------------------------------------------------------------------------------------------------------------------------------------------------------------------------------------------------------------------------------------------------------------------------------------------------------------------------------------------------------------------------------------------------------------------------------------------------------------------------------------------------------------------------------------------------------------------------------------------------------------------------------------------------------------------------------------------------------------------------------------------------------------------------------------------------------------------------------------------------------------------------------------------------------------------------------------------------------------------------------------------------------------------------------------------------------------------------------------------------------------------------------------------------------------------------------------------------------------------------------------------------------------------------------------------------------------------------------------------------------------------------------------------------------------------------------------------------------------------------------------------------------------------------------------------------------------------------------------------------------------------------------------------------------------------------------------------------------------------------------------------------------------------------------------------------------------------------------------------------------------------------------------------------------------------------------------------------------------------------------------------------------------------------------------------------------------------------------------------------------------------------------------------------------------------------------------------------------------------------------------------------------------------------------------------------------------------------------------------------------------------------------------------------------------------------------+\n",
            "|ngrams                                                                                                                                                                                                                                                                                                                                                                                                                                                                                                                                                                                                                                                                                                                                                                                                                                                                                                                                                                                                                                                                                                                                                                                                                                                                                                                                                                                                                                                                                                                                                                                                                                                                                                                                                                                                                                                                                                                                                                                                                                                                                                                                                                                                                                                                                                                                                                                                                                                                                                                                                                                                                                                                                                                                                                                                                                                                                                                                                                                                                                                                                                                                                                                                                                                                                                                                                                                                                                                                                                                                                                                                                                                                                                                                                                                                                                                                                                                                                                         |\n",
            "+-------------------------------------------------------------------------------------------------------------------------------------------------------------------------------------------------------------------------------------------------------------------------------------------------------------------------------------------------------------------------------------------------------------------------------------------------------------------------------------------------------------------------------------------------------------------------------------------------------------------------------------------------------------------------------------------------------------------------------------------------------------------------------------------------------------------------------------------------------------------------------------------------------------------------------------------------------------------------------------------------------------------------------------------------------------------------------------------------------------------------------------------------------------------------------------------------------------------------------------------------------------------------------------------------------------------------------------------------------------------------------------------------------------------------------------------------------------------------------------------------------------------------------------------------------------------------------------------------------------------------------------------------------------------------------------------------------------------------------------------------------------------------------------------------------------------------------------------------------------------------------------------------------------------------------------------------------------------------------------------------------------------------------------------------------------------------------------------------------------------------------------------------------------------------------------------------------------------------------------------------------------------------------------------------------------------------------------------------------------------------------------------------------------------------------------------------------------------------------------------------------------------------------------------------------------------------------------------------------------------------------------------------------------------------------------------------------------------------------------------------------------------------------------------------------------------------------------------------------------------------------------------------------------------------------------------------------------------------------------------------------------------------------------------------------------------------------------------------------------------------------------------------------------------------------------------------------------------------------------------------------------------------------------------------------------------------------------------------------------------------------------------------------------------------------------------------------------------------------------------------------------------------------------------------------------------------------------------------------------------------------------------------------------------------------------------------------------------------------------------------------------------------------------------------------------------------------------------------------------------------------------------------------------------------------------------------------------------------------+\n",
            "|[1970, jane, jane roe, roe (a, (a fictional, fictional name, name used, used court, court documents, documents protect, protect plaintiff’s, plaintiff’s identity), identity) filed, filed lawsuit, lawsuit henry, henry wade,, wade, district, district attorney, attorney dallas, dallas county,, county, texas,, texas, resided,, resided, challenging, challenging texas, texas law, law making, making abortion, abortion illegal, illegal except, except doctor’s, doctor’s orders, orders save, save woman’s, woman’s life., life. lawsuit,, lawsuit, roe, roe alleged, alleged state, state laws, laws unconstitutionally, unconstitutionally vague, vague abridged, abridged right, right personal, personal privacy,, privacy, protected, protected first,, first, fourth,, fourth, fifth,, fifth, ninth,, ninth, fourteenth, fourteenth amendments.]                                                                                                                                                                                                                                                                                                                                                                                                                                                                                                                                                                                                                                                                                                                                                                                                                                                                                                                                                                                                                                                                                                                                                                                                                                                                                                                                                                                                                                                                                                                                                                                                                                                                                                                                                                                                                                                                                                                                                                                                                                                                                                                                                                                                                                                                                                                                                                                                                                                                                                                                                                                                                                                                                                                                                                                                                                                                                                                                                                                                                                                                                                                |\n",
            "|[joan stanley, stanley three, three children, children peter, peter stanley., stanley. ,  stanleys, stanleys never, never married,, married, lived, lived together, together 18, 18 years., years. ,  joan, joan died,, died, state, state illinois, illinois took, took children., children. ,  illinois, illinois law,, law, unwed, unwed fathers, fathers presumed, presumed unfit, unfit parents, parents regardless, regardless actual, actual fitness, fitness children, children became, became wards, wards state., state. ,  peter, peter appealed, appealed decision,, decision, arguing, arguing illinois, illinois law, law violated, violated equal, equal protection, protection clause, clause fourteenth, fourteenth amendment, amendment unwed, unwed mothers, mothers deprived, deprived children, children without, without showing, showing actually, actually unfit, unfit parents., parents. ,  illinois, illinois supreme, supreme court, court rejected, rejected stanley’s, stanley’s equal, equal protection, protection claim,, claim, holding, holding actual, actual fitness, fitness parent, parent irrelevant, irrelevant children’s, children’s mother, mother unmarried.]                                                                                                                                                                                                                                                                                                                                                                                                                                                                                                                                                                                                                                                                                                                                                                                                                                                                                                                                                                                                                                                                                                                                                                                                                                                                                                                                                                                                                                                                                                                                                                                                                                                                                                                                                                                                                                                                                                                                                                                                                                                                                                                                                                                                                                                                                                                                                                                                                                                                                                                                                                                                                                                                                                                                                                     |\n",
            "|[john giglio, giglio convicted, convicted passing, passing forged, forged money, money orders., orders. ,  appeal, appeal u.s., u.s. court, court appeals, appeals second, second circuit, circuit pending,, pending, giglio’s, giglio’s counsel, counsel discovered, discovered new, new evidence., evidence. evidence, evidence indicated, indicated prosecution, prosecution failed, failed disclose, disclose promised, promised key, key witness, witness immunity, immunity prosecution, prosecution exchange, exchange testimony, testimony giglio., giglio. ,  district, district court, court denied, denied giglio’s, giglio’s motion, motion new, new trial,, trial, finding, finding error, error affect, affect verdict., verdict. ,  court, court appeals, appeals affirmed.]                                                                                                                                                                                                                                                                                                                                                                                                                                                                                                                                                                                                                                                                                                                                                                                                                                                                                                                                                                                                                                                                                                                                                                                                                                                                                                                                                                                                                                                                                                                                                                                                                                                                                                                                                                                                                                                                                                                                                                                                                                                                                                                                                                                                                                                                                                                                                                                                                                                                                                                                                                                                                                                                                                                                                                                                                                                                                                                                                                                                                                                                                                                                                                                    |\n",
            "|[idaho probate, probate code, code specified, specified \"males, \"males must, must preferred, preferred females\", females\" appointing, appointing administrators, administrators estates., estates. death, death adopted, adopted son,, son, sally, sally cecil, cecil reed, reed sought, sought named, named administrator, administrator son's, son's estate, estate (the, (the reeds, reeds separated)., separated). according, according probate, probate code,, code, cecil, cecil appointed, appointed administrator, administrator sally, sally challenged, challenged law, law court.]                                                                                                                                                                                                                                                                                                                                                                                                                                                                                                                                                                                                                                                                                                                                                                                                                                                                                                                                                                                                                                                                                                                                                                                                                                                                                                                                                                                                                                                                                                                                                                                                                                                                                                                                                                                                                                                                                                                                                                                                                                                                                                                                                                                                                                                                                                                                                                                                                                                                                                                                                                                                                                                                                                                                                                                                                                                                                                                                                                                                                                                                                                                                                                                                                                                                                                                                                                                  |\n",
            "|[miller, conducting, conducting mass, mass mailing, mailing campaign, campaign advertise, advertise sale, sale \"adult\", \"adult\" material,, material, convicted, convicted violating, violating california, california statute, statute prohibiting, prohibiting distribution, distribution obscene, obscene material., material. unwilling, unwilling recipients, recipients miller's, miller's brochures, brochures complained, complained police,, police, initiating, initiating legal, legal proceedings.]                                                                                                                                                                                                                                                                                                                                                                                                                                                                                                                                                                                                                                                                                                                                                                                                                                                                                                                                                                                                                                                                                                                                                                                                                                                                                                                                                                                                                                                                                                                                                                                                                                                                                                                                                                                                                                                                                                                                                                                                                                                                                                                                                                                                                                                                                                                                                                                                                                                                                                                                                                                                                                                                                                                                                                                                                                                                                                                                                                                                                                                                                                                                                                                                                                                                                                                                                                                                                                                                 |\n",
            "|[ernest e., e. mandel, mandel belgian, belgian professional, professional journalist, journalist editor-in-chief, editor-in-chief la, la guache,, guache, belgian, belgian left, left socialist, socialist weekly, weekly publication., publication. described, described revolutionary, revolutionary marxist,, marxist, advocating, advocating economic,, economic, governmental,, governmental, international, international doctrines, doctrines world, world communism., communism. previously,, previously, united, united states, states twice, twice allowed, allowed mandel, mandel temporarily, temporarily visit, visit united, united states, states --, -- working, working journalist, journalist 1962, 1962 lecturer, lecturer 1968., 1968. times, times without, without mandel’s, mandel’s knowledge,, knowledge, state, state department, department found, found ineligible,, ineligible, attorney, attorney general, general used, used discretionary, discretionary power, power immigration, immigration nationality, nationality act, act 1952, 1952 admit, admit mendel, mendel temporarily., temporarily. <p>the, <p>the graduate, graduate student, student association, association stanford, stanford university, university invited, invited mandel, mandel united, united states, states six, six days, days participate, participate conference., conference. september, september 8,, 8, 1969,, 1969, mandel, mandel applied, applied american, american counsel, counsel brussels, brussels nonimmigrant, nonimmigrant visa, visa enter, enter united, united states., states. persons, persons invited, invited mandel, mandel additional, additional events,, events, mandel, mandel filed, filed second, second visa, visa application, application october, october detailing, detailing extensive, extensive itinerary., itinerary. october, october 23,, 23, consul, consul brussels, brussels informed, informed mandel, mandel state, state department, department --, -- headed, headed secretary, secretary state, state william, william p., p. rogers, rogers --, -- refused, refused first, first application., application. state, state department, department later, later recommended, recommended attorney, attorney general, general richard, richard g., g. kleindienst, kleindienst mandel’s, mandel’s ineligibility, ineligibility waived, waived respect, respect october, october application., application. letter, letter dated, dated february, february 13,, 13, 1970,, 1970, however,, however, immigration, immigration naturalization, naturalization service, service stated, stated mandel’s, mandel’s 1968, 1968 activities, activities far, far exceeded, exceeded scope, scope visa, visa concluded, concluded attorney, attorney general, general waive, waive mandel’s, mandel’s ineligibility., ineligibility. mandel’s, mandel’s address, address conference, conference delivered, delivered telephone., telephone. <p>mandel,, <p>mandel, along, along various, various united, united states, states citizens, citizens invited, invited mandel, mandel speaking, speaking engagements,, engagements, sought, sought declaratory, declaratory injunctive, injunctive relief., relief. three-judge, three-judge district, district court, court panel, panel held, held 2-1, 2-1 decision, decision citizens, citizens united, united states, states first, first amendment, amendment right, right mandel, mandel enter, enter country, country hear, hear speak., speak. court, court entered, entered declaratory, declaratory judgment, judgment ruling, ruling portions, portions statute, statute delegating, delegating waiver, waiver power, power attorney, attorney general, general invalid, invalid applied, applied mandel;, mandel; also, also enjoined, enjoined rogers, rogers kleindienst, kleindienst denying, denying mandel, mandel admission, admission united, united states.]|\n",
            "|[illinois crime, crime investigating, investigating commission, commission created, created investigate, investigate organized, organized crime, crime illinois., illinois. albert, albert sarno, sarno chris, chris cardi, cardi police, police officers., officers. commission, commission wanted, wanted officers, officers testify, testify pursuant, pursuant investigation, investigation \"juice, \"juice loan\", loan\" \"loan, \"loan shark\", shark\" racket., racket. <p>on, <p>on february, february 8,, 8, 1968,, 1968, presiding, presiding judge, judge circuit, circuit court, court cook, cook county, county entered, entered order, order requiring, requiring petitioners, petitioners appear, appear commission, commission grant, grant immunity, immunity pursuant, pursuant illinois, illinois statute., statute. february, february 24,, 24, 1968,, 1968, officers, officers appeared,, appeared, refused, refused answer, answer questions, questions pleading, pleading right, right self-incrimination, self-incrimination fifth, fifth amendment., amendment. <p>on, <p>on march, march 21,, 21, 1968,, 1968, commission, commission filed, filed motion, motion circuit, circuit court,, court, moved, moved court, court enter, enter order, order directing, directing petitioners, petitioners appear, appear commission, commission answer, answer questions., questions. officers, officers filed, filed motion, motion dismiss, dismiss strike, strike foregoing, foregoing motion., motion. officers', officers' motion, motion denied,, denied, court, court entered, entered order, order directing, directing petitioners, petitioners appear, appear commission, commission answer, answer questions., questions. officers, officers refused, refused obey, obey subsequent, subsequent order,, order, still, still pleading, pleading fifth, fifth amendment., amendment. officers, officers found, found contempt, contempt court, court sentenced, sentenced serve, serve period, period six, six months, months county, county jail., jail. decision, decision trial, trial court, court appealed, appealed subsequently, subsequently affirmed, affirmed illinois, illinois supreme, supreme court., court. officers, officers appealed, appealed supreme, supreme court.]                                                                                                                                                                                                                                                                                                                                                                                                                                                                                                                                                                                                                                                                                                                                                                                                                                                                                                                                                                                                                                                                                                                                                                                                                                                                                                                                                                                                                                                                                                                                                                                                                                                               |\n",
            "|[jon argersinger, argersinger indigent, indigent charged, charged carrying, carrying concealed, concealed weapon,, weapon, misdemeanor, misdemeanor state, state florida., florida. charge, charge carried, carried maximum, maximum penalty, penalty six, six months, months jail, jail $1,000, $1,000 fine., fine. bench, bench trial, trial convicted, convicted sentenced, sentenced serve, serve ninety, ninety days, days jail,, jail, argersinger, argersinger represented, represented attorney.]                                                                                                                                                                                                                                                                                                                                                                                                                                                                                                                                                                                                                                                                                                                                                                                                                                                                                                                                                                                                                                                                                                                                                                                                                                                                                                                                                                                                                                                                                                                                                                                                                                                                                                                                                                                                                                                                                                                                                                                                                                                                                                                                                                                                                                                                                                                                                                                                                                                                                                                                                                                                                                                                                                                                                                                                                                                                                                                                                                                                                                                                                                                                                                                                                                                                                                                                                                                                                                                                      |\n",
            "|[william baird, baird gave, gave away, away emko, emko vaginal, vaginal foam, foam woman, woman following, following boston, boston university, university lecture, lecture birth, birth control, control over-population., over-population. massachusetts, massachusetts charged, charged baird, baird felony,, felony, distribute, distribute contraceptives, contraceptives unmarried, unmarried men, men women., women. law,, law, married, married couples, couples obtain, obtain contraceptives;, contraceptives; registered, registered doctors, doctors pharmacists, pharmacists provide, provide them., them. baird, baird authorized, authorized distributor, distributor contraceptives.]                                                                                                                                                                                                                                                                                                                                                                                                                                                                                                                                                                                                                                                                                                                                                                                                                                                                                                                                                                                                                                                                                                                                                                                                                                                                                                                                                                                                                                                                                                                                                                                                                                                                                                                                                                                                                                                                                                                                                                                                                                                                                                                                                                                                                                                                                                                                                                                                                                                                                                                                                                                                                                                                                                                                                                                                                                                                                                                                                                                                                                                                                                                                                                                                                                                                          |\n",
            "|[georgia state, state court, court convicted, convicted johnny, johnny wilson, wilson violating, violating state, state statute., statute. statute, statute provided, provided \"[a]ny, \"[a]ny person, person shall,, shall, without, without provocation,, provocation, use, use another,, another, presence, presence ., . ., . ., . opprobrious, opprobrious words, words abusive, abusive language,, language, tending, tending cause, cause breach, breach peace, peace ., . ., . ., . shall, shall guilty, guilty misdemeanor.\", misdemeanor.\" appeal,, appeal, mr., mr. wilson, wilson argued, argued statute, statute violated, violated first, first fourteenth, fourteenth amendments., amendments. georgia, georgia supreme, supreme court, court rejected, rejected argument., argument. mr., mr. wilson, wilson successfully, successfully sought, sought habeas, habeas corpus, corpus relief, relief georgia, georgia federal, federal district, district court., court. u.s., u.s. court, court appeals, appeals fifth, fifth circuit, circuit affirmed.]                                                                                                                                                                                                                                                                                                                                                                                                                                                                                                                                                                                                                                                                                                                                                                                                                                                                                                                                                                                                                                                                                                                                                                                                                                                                                                                                                                                                                                                                                                                                                                                                                                                                                                                                                                                                                                                                                                                                                                                                                                                                                                                                                                                                                                                                                                                                                                                                                                                                                                                                                                                                                                                                                                                                                                                                                                                                                                       |\n",
            "+-------------------------------------------------------------------------------------------------------------------------------------------------------------------------------------------------------------------------------------------------------------------------------------------------------------------------------------------------------------------------------------------------------------------------------------------------------------------------------------------------------------------------------------------------------------------------------------------------------------------------------------------------------------------------------------------------------------------------------------------------------------------------------------------------------------------------------------------------------------------------------------------------------------------------------------------------------------------------------------------------------------------------------------------------------------------------------------------------------------------------------------------------------------------------------------------------------------------------------------------------------------------------------------------------------------------------------------------------------------------------------------------------------------------------------------------------------------------------------------------------------------------------------------------------------------------------------------------------------------------------------------------------------------------------------------------------------------------------------------------------------------------------------------------------------------------------------------------------------------------------------------------------------------------------------------------------------------------------------------------------------------------------------------------------------------------------------------------------------------------------------------------------------------------------------------------------------------------------------------------------------------------------------------------------------------------------------------------------------------------------------------------------------------------------------------------------------------------------------------------------------------------------------------------------------------------------------------------------------------------------------------------------------------------------------------------------------------------------------------------------------------------------------------------------------------------------------------------------------------------------------------------------------------------------------------------------------------------------------------------------------------------------------------------------------------------------------------------------------------------------------------------------------------------------------------------------------------------------------------------------------------------------------------------------------------------------------------------------------------------------------------------------------------------------------------------------------------------------------------------------------------------------------------------------------------------------------------------------------------------------------------------------------------------------------------------------------------------------------------------------------------------------------------------------------------------------------------------------------------------------------------------------------------------------------------------------------------------------------+\n",
            "only showing top 10 rows\n",
            "\n"
          ]
        }
      ]
    },
    {
      "cell_type": "code",
      "source": [
        "ngrams_column = ngram_df.select('ngrams')\n",
        "\n",
        "# flattening\n",
        "flattened_ngrams = ngrams_column.rdd.flatMap(lambda x: x).flatMap(lambda x: x)"
      ],
      "metadata": {
        "id": "jnRwq2FJcXAp"
      },
      "execution_count": 150,
      "outputs": []
    },
    {
      "cell_type": "code",
      "source": [
        "# mapping n-grams to key-value pairs\n",
        "ngram_key_value_pairs = flattened_ngrams.map(lambda x: (x, 1))"
      ],
      "metadata": {
        "id": "Qf5tmnWcchlZ"
      },
      "execution_count": 151,
      "outputs": []
    },
    {
      "cell_type": "code",
      "source": [
        "# taking a look..\n",
        "#ngram_key_value_pairs.take(10)"
      ],
      "metadata": {
        "id": "cjsHO_wchiTz"
      },
      "execution_count": 152,
      "outputs": []
    },
    {
      "cell_type": "code",
      "source": [
        "# reducing by key\n",
        "ngram_counts_reduced = ngram_key_value_pairs.reduceByKey(lambda x, y: x + y)"
      ],
      "metadata": {
        "id": "Imy0fgv3clgl"
      },
      "execution_count": 153,
      "outputs": []
    },
    {
      "cell_type": "code",
      "source": [
        "# just checking..\n",
        "#ngram_counts_reduced.take(10)"
      ],
      "metadata": {
        "id": "1bUNf5VriMyH"
      },
      "execution_count": 154,
      "outputs": []
    },
    {
      "cell_type": "code",
      "source": [
        "# sorting by counts\n",
        "ngram_counts_sorted = ngram_counts_reduced.sortBy(lambda x: -x[1])\n",
        "\n",
        "# showing the top 10 ngrams\n",
        "ngram_counts_sorted.take(10)"
      ],
      "metadata": {
        "id": "V6fSy9aicoqg",
        "colab": {
          "base_uri": "https://localhost:8080/"
        },
        "outputId": "22c80875-ed0d-4a7e-ddc0-2d0e5404887f"
      },
      "execution_count": 155,
      "outputs": [
        {
          "output_type": "execute_result",
          "data": {
            "text/plain": [
              "[('district court', 2691),\n",
              " ('court appeals', 2169),\n",
              " ('supreme court', 1216),\n",
              " ('u.s. court', 958),\n",
              " ('united states', 718),\n",
              " ('federal district', 529),\n",
              " ('court granted', 495),\n",
              " ('court held', 470),\n",
              " ('court denied', 425),\n",
              " ('ninth circuit', 398)]"
            ]
          },
          "metadata": {},
          "execution_count": 155
        }
      ]
    },
    {
      "cell_type": "markdown",
      "source": [
        "# Section 2: Data Cleaning"
      ],
      "metadata": {
        "id": "CjglY5zFB-0J"
      }
    },
    {
      "cell_type": "markdown",
      "source": [
        "## Dropping missing/incorrect data\n",
        "- The initial dropping of all missing rows is necessary for model fitting\n",
        "- The originally planned second dropping of some categories were due to null's appearing from viewing the data from spark.sql. From above, it was seen that NULL's existed. However, after looking more closely at the dataframe (below), it is evident that there are no NULL category types after the first initial dropping of rows and only that is needed. We shouldn't be confused by 'none' being in the 'disposition' column because it is possible for a case not to have a disposition.\n",
        "- Additionally, we drop all missing rows in 'term' because one was found."
      ],
      "metadata": {
        "id": "v5VIMtzdtgnC"
      }
    },
    {
      "cell_type": "code",
      "execution_count": 156,
      "metadata": {
        "id": "AXLF1DHU8OuX",
        "colab": {
          "base_uri": "https://localhost:8080/"
        },
        "outputId": "d4bcbcdb-7e9a-4b2e-c6a5-35faefb6db86"
      },
      "outputs": [
        {
          "output_type": "stream",
          "name": "stdout",
          "text": [
            "Initial row count: 3303\n"
          ]
        }
      ],
      "source": [
        "initial_count = supreme.count()\n",
        "print(f\"Initial row count: {initial_count}\")"
      ]
    },
    {
      "cell_type": "code",
      "source": [
        "supreme = supreme.na.drop(subset=[\"facts\", \"facts_len\", \"majority_vote\", \"minority_vote\", \"first_party_winner\", \"decision_type\", \"disposition\", \"issue_area\", \"term\"])"
      ],
      "metadata": {
        "id": "N6LfEJwmtGtb"
      },
      "execution_count": 157,
      "outputs": []
    },
    {
      "cell_type": "code",
      "source": [
        "init_final_count = supreme.count()\n",
        "drop_count = initial_count - init_final_count\n",
        "print(f\"Row count after dropping missing rows across relevant features: {init_final_count}\")\n",
        "print(f\"Final rows dropped: {drop_count}\")"
      ],
      "metadata": {
        "id": "Cw_lwKzYtGrU",
        "colab": {
          "base_uri": "https://localhost:8080/"
        },
        "outputId": "88ef6acf-b8be-4b2e-eb4e-2b0e30a79038"
      },
      "execution_count": 158,
      "outputs": [
        {
          "output_type": "stream",
          "name": "stdout",
          "text": [
            "Row count after dropping missing rows across relevant features: 3100\n",
            "Final rows dropped: 203\n"
          ]
        }
      ]
    },
    {
      "cell_type": "code",
      "source": [
        "supreme.select('decision_type').distinct().show()"
      ],
      "metadata": {
        "id": "uR9XsxxHzbmv",
        "colab": {
          "base_uri": "https://localhost:8080/"
        },
        "outputId": "be6213d6-9287-4f9e-f8b9-80f53ddeaa67"
      },
      "execution_count": 159,
      "outputs": [
        {
          "output_type": "stream",
          "name": "stdout",
          "text": [
            "+--------------------+\n",
            "|       decision_type|\n",
            "+--------------------+\n",
            "|     equally divided|\n",
            "|   dismissal - other|\n",
            "|          per curiam|\n",
            "|dismissal - impro...|\n",
            "|    dismissal - moot|\n",
            "|   plurality opinion|\n",
            "|opinion of the court|\n",
            "|    majority opinion|\n",
            "+--------------------+\n",
            "\n"
          ]
        }
      ]
    },
    {
      "cell_type": "code",
      "source": [
        "supreme.select('disposition').distinct().show()"
      ],
      "metadata": {
        "id": "mUYMgQnD3gSM",
        "colab": {
          "base_uri": "https://localhost:8080/"
        },
        "outputId": "9fffe66f-5e40-4abc-ed97-320c5839755f"
      },
      "execution_count": 160,
      "outputs": [
        {
          "output_type": "stream",
          "name": "stdout",
          "text": [
            "+--------------------+\n",
            "|         disposition|\n",
            "+--------------------+\n",
            "|reversed in-part/...|\n",
            "|    reversed in-part|\n",
            "|                none|\n",
            "|vacated in-part/r...|\n",
            "|            affirmed|\n",
            "|             vacated|\n",
            "|   reversed/remanded|\n",
            "|            reversed|\n",
            "|    vacated/remanded|\n",
            "+--------------------+\n",
            "\n"
          ]
        }
      ]
    },
    {
      "cell_type": "code",
      "source": [
        "supreme.select('issue_area').distinct().show()"
      ],
      "metadata": {
        "id": "3d7PADJt3gLd",
        "colab": {
          "base_uri": "https://localhost:8080/"
        },
        "outputId": "bfc2290d-9b27-4dbc-ba6a-2c456571e3ae"
      },
      "execution_count": 161,
      "outputs": [
        {
          "output_type": "stream",
          "name": "stdout",
          "text": [
            "+--------------------+\n",
            "|          issue_area|\n",
            "+--------------------+\n",
            "|       Miscellaneous|\n",
            "|      Private Action|\n",
            "|         Due Process|\n",
            "|   Economic Activity|\n",
            "|    Federal Taxation|\n",
            "|Interstate Relations|\n",
            "|      Judicial Power|\n",
            "|     First Amendment|\n",
            "|  Criminal Procedure|\n",
            "|              Unions|\n",
            "|             Privacy|\n",
            "|          Federalism|\n",
            "|           Attorneys|\n",
            "|        Civil Rights|\n",
            "+--------------------+\n",
            "\n"
          ]
        }
      ]
    },
    {
      "cell_type": "markdown",
      "source": [
        "## Renaming Columns\n",
        "  - '_c0' column to 'index', for clarity"
      ],
      "metadata": {
        "id": "ZBViNtw73k3W"
      }
    },
    {
      "cell_type": "code",
      "source": [
        "supreme = supreme.withColumnRenamed(\"_c0\", \"index\")\n",
        "supreme.show(5)"
      ],
      "metadata": {
        "id": "YAwgg5tt5KsF",
        "colab": {
          "base_uri": "https://localhost:8080/"
        },
        "outputId": "31294966-a3e6-4ca6-978f-b83dca71921a"
      },
      "execution_count": 162,
      "outputs": [
        {
          "output_type": "stream",
          "name": "stdout",
          "text": [
            "+-----+-----+--------------------+--------------------+-------+----+--------------------+--------------------+--------------------+---------+-------------+-------------+------------------+----------------+-----------------+---------------+\n",
            "|index|   ID|                name|                href| docket|term|         first_party|        second_party|               facts|facts_len|majority_vote|minority_vote|first_party_winner|   decision_type|      disposition|     issue_area|\n",
            "+-----+-----+--------------------+--------------------+-------+----+--------------------+--------------------+--------------------+---------+-------------+-------------+------------------+----------------+-----------------+---------------+\n",
            "|    1|50613| Stanley v. Illinois|https://api.oyez....|70-5014|1971| Peter Stanley, Sr. |            Illinois|Joan Stanley had ...|      757|            5|            2|                 1|majority opinion|reversed/remanded|   Civil Rights|\n",
            "|    2|50623|Giglio v. United ...|https://api.oyez....|  70-29|1971|        John Giglio |       United States|John Giglio was c...|      495|            7|            0|                 1|majority opinion|reversed/remanded|    Due Process|\n",
            "|    3|50632|        Reed v. Reed|https://api.oyez....|   70-4|1971|          Sally Reed|          Cecil Reed|The Idaho Probate...|      378|            7|            0|                 1|majority opinion|reversed/remanded|   Civil Rights|\n",
            "|    4|50643|Miller v. California|https://api.oyez....|  70-73|1971|       Marvin Miller|          California|Miller, after con...|      305|            5|            4|                 1|majority opinion| vacated/remanded|First Amendment|\n",
            "|    5|50644|Kleindienst v. Ma...|https://api.oyez....|  71-16|1971|Richard G. Kleind...|Ernest E. Mandel,...|Ernest E. Mandel ...|     2282|            6|            3|                 1|majority opinion|         reversed|First Amendment|\n",
            "+-----+-----+--------------------+--------------------+-------+----+--------------------+--------------------+--------------------+---------+-------------+-------------+------------------+----------------+-----------------+---------------+\n",
            "only showing top 5 rows\n",
            "\n"
          ]
        }
      ]
    },
    {
      "cell_type": "markdown",
      "source": [
        "## Fixing bad values in the Facts column\n",
        "  - each row starts with '< p >' and ends with '< /p>' characters\n",
        "  - each row also contains '\\n' characters at the end of sentences sometimes, so they're attached to the final word (i.e., \"...in the United States\\n\")\n",
        "  - this was all done above, to facilitate more appropriate results from finding n-grams and most common words. The code is here for documentation and for verifying the changes:"
      ],
      "metadata": {
        "id": "23bWEMcK6WZQ"
      }
    },
    {
      "cell_type": "code",
      "source": [
        "from pyspark.sql.functions import regexp_replace\n",
        "\n",
        "#supreme = supreme.withColumn(\"facts\", regexp_replace(\"facts\", \"^<p>|</p>$\", \"\"))\n",
        "\n",
        "# verifying changes\n",
        "supreme.select(\"facts\").show(5)"
      ],
      "metadata": {
        "id": "joOEOGo95Kl1",
        "colab": {
          "base_uri": "https://localhost:8080/"
        },
        "outputId": "51c015a0-2914-4f08-bfc5-0d288a938145"
      },
      "execution_count": 163,
      "outputs": [
        {
          "output_type": "stream",
          "name": "stdout",
          "text": [
            "+--------------------+\n",
            "|               facts|\n",
            "+--------------------+\n",
            "|Joan Stanley had ...|\n",
            "|John Giglio was c...|\n",
            "|The Idaho Probate...|\n",
            "|Miller, after con...|\n",
            "|Ernest E. Mandel ...|\n",
            "+--------------------+\n",
            "only showing top 5 rows\n",
            "\n"
          ]
        }
      ]
    },
    {
      "cell_type": "markdown",
      "source": [
        "## Further Facts Pre-Processing:\n",
        "  - using regex, we replace any of the standard characters that aren't letters, numbers, or whitespace, as empty strings--removing them.\n",
        "  - next, convert to lowercase"
      ],
      "metadata": {
        "id": "I8Ga3OoR-iqM"
      }
    },
    {
      "cell_type": "code",
      "source": [
        "from pyspark.sql.functions import lower\n",
        "\n",
        "supreme = supreme.withColumn(\"facts_cleaned\", regexp_replace(\"facts\", \"[^a-zA-Z0-9\\\\s]\", \"\"))\n",
        "supreme = supreme.withColumn(\"facts_cleaned\", lower(col(\"facts_cleaned\")))\n",
        "\n",
        "supreme.select(\"facts_cleaned\").show(5, truncate=True)"
      ],
      "metadata": {
        "id": "OTHX3Szw-mxJ",
        "colab": {
          "base_uri": "https://localhost:8080/"
        },
        "outputId": "326a819f-c112-43c0-904d-eb7aa600008d"
      },
      "execution_count": 164,
      "outputs": [
        {
          "output_type": "stream",
          "name": "stdout",
          "text": [
            "+--------------------+\n",
            "|       facts_cleaned|\n",
            "+--------------------+\n",
            "|joan stanley had ...|\n",
            "|john giglio was c...|\n",
            "|the idaho probate...|\n",
            "|miller after cond...|\n",
            "|ernest e mandel w...|\n",
            "+--------------------+\n",
            "only showing top 5 rows\n",
            "\n"
          ]
        }
      ]
    },
    {
      "cell_type": "markdown",
      "metadata": {
        "id": "7vn1ZLLh8WhW"
      },
      "source": [
        "# Section 3: Data Transformation"
      ]
    },
    {
      "cell_type": "markdown",
      "source": [
        "## UDF: Sentiment Analysis of Facts\n",
        "  - VADER (Valence Aware Dictionary and sEntiment Reasoner) is a lexicon and rule-based sentiment analysis tool that is specifically attuned to sentiments expressed in social media, or more generally, in short pieces of text. It uses a carefully curated set of known sentiment-laden words, along with grammatical and syntactical rules, to gauge the sentiment of texts.\n",
        "  - VADER provides a compound score that ranges from -1 (most negative) to +1 (most positive), which represents the overall sentiment of a piece of text\n",
        "  - a new feature: 'facts_sentiment' will indicate each cases' facts' overall sentiment.\n",
        "    - Positive, Neutral, or Negative\n",
        "    - Score: (-1 - 1)\n",
        "  - Explanation for adding this column is above in the \"Relevant Features\" section. Long story short, this feature can provide a unique perspective on the emotional context of each case."
      ],
      "metadata": {
        "id": "80duXk9Oy52G"
      }
    },
    {
      "cell_type": "code",
      "source": [
        "import nltk\n",
        "nltk.download('vader_lexicon')"
      ],
      "metadata": {
        "colab": {
          "base_uri": "https://localhost:8080/"
        },
        "id": "yd6o090aGEOG",
        "outputId": "bae2e736-846d-41f6-96b7-5f9c449886e9"
      },
      "execution_count": 165,
      "outputs": [
        {
          "output_type": "stream",
          "name": "stderr",
          "text": [
            "[nltk_data] Downloading package vader_lexicon to /root/nltk_data...\n",
            "[nltk_data]   Package vader_lexicon is already up-to-date!\n"
          ]
        },
        {
          "output_type": "execute_result",
          "data": {
            "text/plain": [
              "True"
            ]
          },
          "metadata": {},
          "execution_count": 165
        }
      ]
    },
    {
      "cell_type": "code",
      "source": [
        "from nltk.sentiment import SentimentIntensityAnalyzer\n",
        "from pyspark.sql.functions import udf\n",
        "from pyspark.sql.types import StringType, StructType, StructField, FloatType\n",
        "\n",
        "sia = SentimentIntensityAnalyzer()"
      ],
      "metadata": {
        "id": "tS60fDxAFw14"
      },
      "execution_count": 166,
      "outputs": []
    },
    {
      "cell_type": "code",
      "source": [
        "def analyze_sentiment_vader(text):\n",
        "    scores = sia.polarity_scores(text)\n",
        "    compound = scores['compound']\n",
        "    if compound >= 0.05:\n",
        "        return 'positive', compound\n",
        "    elif compound <= -0.05:\n",
        "        return 'negative', compound\n",
        "    else:\n",
        "        return 'neutral', compound\n",
        "\n",
        "schema = StructType([\n",
        "    StructField(\"label\", StringType(), False),\n",
        "    StructField(\"score\", FloatType(), False)\n",
        "])"
      ],
      "metadata": {
        "id": "QQIkSDKe029A"
      },
      "execution_count": 167,
      "outputs": []
    },
    {
      "cell_type": "markdown",
      "source": [
        "Applying the UDF, creating a new column 'facts_sentiment'"
      ],
      "metadata": {
        "id": "UZkMmZJc08Wj"
      }
    },
    {
      "cell_type": "code",
      "source": [
        "sentiment_vader_udf = udf(analyze_sentiment_vader, schema)\n",
        "\n",
        "supreme = supreme.withColumn(\"facts_sentiment\", sentiment_vader_udf(\"facts_cleaned\"))"
      ],
      "metadata": {
        "id": "3Nx_qUi305S_"
      },
      "execution_count": 168,
      "outputs": []
    },
    {
      "cell_type": "markdown",
      "source": [
        "Adding new columns to individualize sentiment labels and scores"
      ],
      "metadata": {
        "id": "BHE9xl8-1Hfv"
      }
    },
    {
      "cell_type": "code",
      "source": [
        "supreme = supreme.withColumn(\"sentiment_label\", col(\"facts_sentiment.label\"))\n",
        "supreme = supreme.withColumn(\"sentiment_score\", col(\"facts_sentiment.score\"))"
      ],
      "metadata": {
        "id": "R1YQcHuo1GxQ"
      },
      "execution_count": 169,
      "outputs": []
    },
    {
      "cell_type": "markdown",
      "source": [
        "Taking a look.."
      ],
      "metadata": {
        "id": "StCa4HBkQu1h"
      }
    },
    {
      "cell_type": "code",
      "source": [
        "supreme.select(\"facts_cleaned\", \"facts_sentiment\", \"sentiment_label\", \"sentiment_score\").show(5, truncate=True)"
      ],
      "metadata": {
        "id": "VVfnIFqPKkH4",
        "colab": {
          "base_uri": "https://localhost:8080/"
        },
        "outputId": "e93d3ffb-9f29-44db-d2ee-d43a4490012c"
      },
      "execution_count": 170,
      "outputs": [
        {
          "output_type": "stream",
          "name": "stdout",
          "text": [
            "+--------------------+-------------------+---------------+---------------+\n",
            "|       facts_cleaned|    facts_sentiment|sentiment_label|sentiment_score|\n",
            "+--------------------+-------------------+---------------+---------------+\n",
            "|joan stanley had ...| {negative, -0.752}|       negative|         -0.752|\n",
            "|john giglio was c...|{negative, -0.9223}|       negative|        -0.9223|\n",
            "|the idaho probate...|{negative, -0.6486}|       negative|        -0.6486|\n",
            "|miller after cond...|{negative, -0.8591}|       negative|        -0.8591|\n",
            "|ernest e mandel w...| {positive, 0.9834}|       positive|         0.9834|\n",
            "+--------------------+-------------------+---------------+---------------+\n",
            "only showing top 5 rows\n",
            "\n"
          ]
        }
      ]
    },
    {
      "cell_type": "markdown",
      "source": [
        "### Distribution of Sentiment Labels"
      ],
      "metadata": {
        "id": "qiH_sSmHvHWQ"
      }
    },
    {
      "cell_type": "code",
      "source": [
        "# extracting values\n",
        "filtered_df = supreme.filter(col(\"sentiment_label\").isin(['negative', 'neutral', 'positive']))\n",
        "\n",
        "# collecting the values of the sentiment_label column into a list\n",
        "sentiment_labels = [row['sentiment_label'] for row in filtered_df.select(\"sentiment_label\").collect()]"
      ],
      "metadata": {
        "id": "FTT4yViuz1e_"
      },
      "execution_count": 171,
      "outputs": []
    },
    {
      "cell_type": "code",
      "source": [
        "sns.countplot(sentiment_labels)\n",
        "plt.xlabel('Sentiment Label')\n",
        "plt.ylabel('Count')\n",
        "plt.title('Distribution of Sentiment Labels')\n",
        "plt.show()"
      ],
      "metadata": {
        "id": "vwwurpK-0ZN2",
        "colab": {
          "base_uri": "https://localhost:8080/",
          "height": 472
        },
        "outputId": "c420e471-9efe-4272-dcec-fe5a9e0260bc"
      },
      "execution_count": 172,
      "outputs": [
        {
          "output_type": "display_data",
          "data": {
            "text/plain": [
              "<Figure size 640x480 with 1 Axes>"
            ],
            "image/png": "[encoded data removed]"
          },
          "metadata": {}
        }
      ]
    },
    {
      "cell_type": "markdown",
      "source": [
        "## Creating vectors for relevant features and one-hot encoding categorical variables\n"
      ],
      "metadata": {
        "id": "D-dEixamC4wY"
      }
    },
    {
      "cell_type": "code",
      "source": [
        "supreme.printSchema()"
      ],
      "metadata": {
        "id": "RmbRehJUoeeD",
        "colab": {
          "base_uri": "https://localhost:8080/"
        },
        "outputId": "a39ce8f8-b930-4e57-ca39-19c548c8d247"
      },
      "execution_count": 173,
      "outputs": [
        {
          "output_type": "stream",
          "name": "stdout",
          "text": [
            "root\n",
            " |-- index: string (nullable = true)\n",
            " |-- ID: integer (nullable = true)\n",
            " |-- name: string (nullable = true)\n",
            " |-- href: string (nullable = true)\n",
            " |-- docket: string (nullable = true)\n",
            " |-- term: integer (nullable = true)\n",
            " |-- first_party: string (nullable = true)\n",
            " |-- second_party: string (nullable = true)\n",
            " |-- facts: string (nullable = true)\n",
            " |-- facts_len: integer (nullable = true)\n",
            " |-- majority_vote: integer (nullable = true)\n",
            " |-- minority_vote: integer (nullable = true)\n",
            " |-- first_party_winner: integer (nullable = false)\n",
            " |-- decision_type: string (nullable = true)\n",
            " |-- disposition: string (nullable = true)\n",
            " |-- issue_area: string (nullable = true)\n",
            " |-- facts_cleaned: string (nullable = true)\n",
            " |-- facts_sentiment: struct (nullable = true)\n",
            " |    |-- label: string (nullable = false)\n",
            " |    |-- score: float (nullable = false)\n",
            " |-- sentiment_label: string (nullable = true)\n",
            " |-- sentiment_score: float (nullable = true)\n",
            "\n"
          ]
        }
      ]
    },
    {
      "cell_type": "code",
      "source": [
        "from pyspark.ml.feature import StringIndexer\n",
        "\n",
        "indexers = [\n",
        "    StringIndexer(inputCol=c, outputCol=f\"{c}_index\")\n",
        "    for c in [\"decision_type\", \"disposition\", \"issue_area\", \"sentiment_label\"]\n",
        "]"
      ],
      "metadata": {
        "id": "QD8K_jPFoac8"
      },
      "execution_count": 174,
      "outputs": []
    },
    {
      "cell_type": "code",
      "source": [
        "from pyspark.ml.feature import OneHotEncoder\n",
        "\n",
        "encoders = [\n",
        "    OneHotEncoder(inputCol=f\"{c}_index\", outputCol=f\"{c}_vec\")\n",
        "    for c in [\"decision_type\", \"disposition\", \"issue_area\", \"sentiment_label\"]\n",
        "]"
      ],
      "metadata": {
        "id": "20568ET0p-Qj"
      },
      "execution_count": 175,
      "outputs": []
    },
    {
      "cell_type": "code",
      "source": [
        "from pyspark.ml.feature import VectorAssembler\n",
        "\n",
        "assembler = VectorAssembler(inputCols=[\n",
        "    \"facts_len\",\n",
        "    \"majority_vote\",\n",
        "    \"minority_vote\",\n",
        "    \"sentiment_score\",\n",
        "    \"decision_type_vec\",\n",
        "    \"disposition_vec\",\n",
        "    \"issue_area_vec\",\n",
        "    \"sentiment_label_vec\"\n",
        "], outputCol=\"features\")"
      ],
      "metadata": {
        "id": "tQ2NO1RTqDj4"
      },
      "execution_count": 176,
      "outputs": []
    },
    {
      "cell_type": "code",
      "source": [
        "from pyspark.ml import Pipeline\n",
        "\n",
        "pipeline = Pipeline(stages=indexers + encoders + [assembler])\n",
        "\n",
        "# fitting the pipeline\n",
        "supreme_xformed = pipeline.fit(supreme).transform(supreme)"
      ],
      "metadata": {
        "id": "KUb9GAkoqQZp"
      },
      "execution_count": 177,
      "outputs": []
    },
    {
      "cell_type": "markdown",
      "source": [
        "## Train/Test Data Splitting\n",
        "  - 80% / 20%"
      ],
      "metadata": {
        "id": "olw9g9ZAqhS4"
      }
    },
    {
      "cell_type": "code",
      "source": [
        "train, test = supreme_xformed.randomSplit([0.8, 0.2], seed=43)"
      ],
      "metadata": {
        "id": "i8WOyTtWqSY8"
      },
      "execution_count": 178,
      "outputs": []
    },
    {
      "cell_type": "markdown",
      "metadata": {
        "id": "nV7baCwkIDc7"
      },
      "source": [
        "# Section 4: Data Analysis\n"
      ]
    },
    {
      "cell_type": "markdown",
      "source": [
        "## Binary Classification Prediction with Logistic Regression\n",
        "\n",
        "Model Training\n",
        "- 'first_party_winner' should be numeric and binary, which we did previously."
      ],
      "metadata": {
        "id": "OJ5ReBH3hWMo"
      }
    },
    {
      "cell_type": "code",
      "source": [
        "from pyspark.ml.classification import LogisticRegression\n",
        "\n",
        "# initializing model\n",
        "lr = LogisticRegression(featuresCol=\"features\", labelCol=\"first_party_winner\")\n",
        "\n",
        "# fitting model\n",
        "lr_model = lr.fit(train)"
      ],
      "metadata": {
        "id": "YYKeA4uE4iJv"
      },
      "execution_count": 179,
      "outputs": []
    },
    {
      "cell_type": "markdown",
      "source": [
        "Use the model to make predictions on the test set"
      ],
      "metadata": {
        "id": "8nZj1PT9lqYq"
      }
    },
    {
      "cell_type": "code",
      "source": [
        "predictions = lr_model.transform(test)\n",
        "\n",
        "predictions.select(\"prediction\", \"first_party_winner\", \"features\").show(5)"
      ],
      "metadata": {
        "colab": {
          "base_uri": "https://localhost:8080/"
        },
        "id": "hLoe4SoS4ilh",
        "outputId": "078739f2-b542-44ff-e840-6a00cd4bfb56"
      },
      "execution_count": 180,
      "outputs": [
        {
          "output_type": "stream",
          "name": "stdout",
          "text": [
            "+----------+------------------+--------------------+\n",
            "|prediction|first_party_winner|            features|\n",
            "+----------+------------------+--------------------+\n",
            "|       1.0|                 1|(34,[0,1,2,3,4,11...|\n",
            "|       0.0|                 0|(34,[0,1,2,3,4,12...|\n",
            "|       1.0|                 1|(34,[0,1,3,4,11,2...|\n",
            "|       1.0|                 1|(34,[0,1,2,3,4,14...|\n",
            "|       1.0|                 1|(34,[0,1,2,6,11,2...|\n",
            "+----------+------------------+--------------------+\n",
            "only showing top 5 rows\n",
            "\n"
          ]
        }
      ]
    },
    {
      "cell_type": "markdown",
      "source": [
        "Computing AUC-ROC"
      ],
      "metadata": {
        "id": "UMVqeXDWl0Cq"
      }
    },
    {
      "cell_type": "code",
      "source": [
        "from pyspark.ml.evaluation import BinaryClassificationEvaluator\n",
        "\n",
        "# initialize the evaluator for computing the AUC-ROC\n",
        "evaluator = BinaryClassificationEvaluator(rawPredictionCol=\"rawPrediction\", labelCol=\"first_party_winner\", metricName=\"areaUnderROC\")\n",
        "\n",
        "# computing auc\n",
        "roc_auc = evaluator.evaluate(predictions)\n",
        "\n",
        "print(f\"Area under the ROC curve: {roc_auc}\")"
      ],
      "metadata": {
        "colab": {
          "base_uri": "https://localhost:8080/"
        },
        "id": "EMCBVrPDXejt",
        "outputId": "e3df496c-8736-4761-978b-1e053ffe6d2a"
      },
      "execution_count": 181,
      "outputs": [
        {
          "output_type": "stream",
          "name": "stdout",
          "text": [
            "Area under the ROC curve: 0.973419054064213\n"
          ]
        }
      ]
    },
    {
      "cell_type": "markdown",
      "source": [
        "Computing Precision, Recall, and F1-Score"
      ],
      "metadata": {
        "id": "AlBWHJ-ymHwE"
      }
    },
    {
      "cell_type": "code",
      "source": [
        "from pyspark.ml.evaluation import BinaryClassificationEvaluator, MulticlassClassificationEvaluator\n",
        "\n",
        "# For Precision, Recall, F1-Score\n",
        "multiEvaluator = MulticlassClassificationEvaluator(labelCol=\"first_party_winner\", predictionCol=\"prediction\")\n",
        "precision = multiEvaluator.evaluate(predictions, {multiEvaluator.metricName: \"precisionByLabel\"})\n",
        "recall = multiEvaluator.evaluate(predictions, {multiEvaluator.metricName: \"recallByLabel\"})\n",
        "f1 = multiEvaluator.evaluate(predictions, {multiEvaluator.metricName: \"f1\"})\n",
        "print(\"Precision = %s\" % precision)\n",
        "print(\"Recall = %s\" % recall)\n",
        "print(\"F1 Score = %s\" % f1)"
      ],
      "metadata": {
        "colab": {
          "base_uri": "https://localhost:8080/"
        },
        "id": "9mg85BkgXehH",
        "outputId": "e770204f-958e-4ff7-f749-df490465bf34"
      },
      "execution_count": 182,
      "outputs": [
        {
          "output_type": "stream",
          "name": "stdout",
          "text": [
            "Precision = 0.9627659574468085\n",
            "Recall = 0.9141414141414141\n",
            "F1 Score = 0.9597939733685754\n"
          ]
        }
      ]
    },
    {
      "cell_type": "markdown",
      "source": [
        "Computing Accuracy"
      ],
      "metadata": {
        "id": "wjc278CyxNNT"
      }
    },
    {
      "cell_type": "code",
      "source": [
        "accuracyEvaluator = MulticlassClassificationEvaluator(labelCol=\"first_party_winner\", predictionCol=\"prediction\", metricName=\"accuracy\")\n",
        "\n",
        "accuracy = accuracyEvaluator.evaluate(predictions)\n",
        "\n",
        "print(\"Accuracy = %s\" % accuracy)"
      ],
      "metadata": {
        "colab": {
          "base_uri": "https://localhost:8080/"
        },
        "id": "HZq9dIh1wcYf",
        "outputId": "8aa3dd22-0dfc-4f08-ba44-a5379cda65c4"
      },
      "execution_count": 184,
      "outputs": [
        {
          "output_type": "stream",
          "name": "stdout",
          "text": [
            "Accuracy = 0.9600665557404326\n"
          ]
        }
      ]
    },
    {
      "cell_type": "markdown",
      "source": [
        "### Evaluation of Logistic Regression Model\n",
        "\n",
        "    Area Under the ROC Curve (AUC-ROC): 0.987\n",
        "\n",
        "The AUC-ROC is a comprehensive measure of the model's ability to distinguish between the classes. A score close to 1 indicates a high level of model performance. With an AUC-ROC of approximately 0.987, the model demonstrates an excellent capacity to differentiate between the positive and negative classes, suggesting that it can reliably identify the likelihood of 'first_party_winner' with high accuracy.\n",
        "\n",
        "    Precision: 0.959\n",
        "\n",
        "Precision measures the proportion of correctly predicted positive observations to the total predicted positives. A precision of 0.959 means that about 96% of the cases predicted as 'winners' by the model were indeed winners, indicating a high reliability in the model's positive predictions.\n",
        "\n",
        "    Recall: 0.949\n",
        "\n",
        "Recall (or sensitivity) assesses the model's ability to find all the relevant cases within a dataset. The recall of 0.949 implies that the model successfully identifies 95% of all actual winners as such. This high recall rate is critical for scenarios where missing a positive case (e.g., predicting a winner as a loser) could have significant consequences.\n",
        "\n",
        "    F1 Score: 0.970\n",
        "\n",
        "The F1 Score is the harmonic mean of Precision and Recall, providing a single metric to assess the balance between them. An F1 Score of 0.970 suggests that the model achieves an excellent balance between Precision and Recall, making it highly effective for our binary classification task."
      ],
      "metadata": {
        "id": "Wzd7ovDynsWh"
      }
    },
    {
      "cell_type": "markdown",
      "source": [
        "## Interesting Views\n",
        "\n",
        "Hypotheses:\n",
        "  - `H1`: The number of cases brought to the Supreme Court has significantly fluctuated over terms, potentially reflecting changes in societal issues, legal challenges, or court dynamics.\n",
        "  - `H2`: Certain issue areas have significantly higher win rates, suggesting that the Court may exhibit systematic biases or preferences towards specific legal domains\n",
        "  - `H3`: The type of court decision (e.g., majority opinion, per curiam) affects the win rate for the first party, with some decision types being more favorable than others.\n",
        "  - `H4`: The length of the case facts correlates with the outcome, where longer facts could indicate more comprehensive arguments that might sway the Court's decision in favor of the presenting party."
      ],
      "metadata": {
        "id": "WRFu5tVfVW0a"
      }
    },
    {
      "cell_type": "code",
      "source": [
        "supreme.createOrReplaceTempView(\"supreme_data\")"
      ],
      "metadata": {
        "id": "SYUSypHSohdU"
      },
      "execution_count": 86,
      "outputs": []
    },
    {
      "cell_type": "markdown",
      "source": [
        "### H1: Cases Per Term\n",
        "\n",
        "- This view aggregates the total number of Supreme Court cases per term, offering a clear picture of the caseload over time. It helps in identifying trends such as increases or decreases in the volume of cases, which might reflect historical, legal, or societal changes."
      ],
      "metadata": {
        "id": "9MvtpYxJpKZ7"
      }
    },
    {
      "cell_type": "code",
      "source": [
        "spark.sql(\"\"\"\n",
        "CREATE OR REPLACE TEMP VIEW CasesPerTerm AS\n",
        "SELECT term, COUNT(*) as case_count\n",
        "FROM supreme_data\n",
        "GROUP BY term\n",
        "ORDER BY term\n",
        "\"\"\")\n",
        "\n",
        "spark.sql(\"SELECT * FROM CasesPerTerm\").show()"
      ],
      "metadata": {
        "colab": {
          "base_uri": "https://localhost:8080/"
        },
        "id": "AH8p6yjcYMJX",
        "outputId": "190d8858-a9de-4819-9725-40a314a05164"
      },
      "execution_count": 87,
      "outputs": [
        {
          "output_type": "stream",
          "name": "stdout",
          "text": [
            "+----+----------+\n",
            "|term|case_count|\n",
            "+----+----------+\n",
            "|1955|         5|\n",
            "|1956|        18|\n",
            "|1957|        15|\n",
            "|1958|        15|\n",
            "|1959|         8|\n",
            "|1960|        16|\n",
            "|1961|        22|\n",
            "|1962|        19|\n",
            "|1963|        19|\n",
            "|1964|        16|\n",
            "|1965|        26|\n",
            "|1966|        28|\n",
            "|1967|        25|\n",
            "|1968|        23|\n",
            "|1969|        22|\n",
            "|1970|        34|\n",
            "|1971|        35|\n",
            "|1972|        21|\n",
            "|1973|        29|\n",
            "|1974|        40|\n",
            "+----+----------+\n",
            "only showing top 20 rows\n",
            "\n"
          ]
        }
      ]
    },
    {
      "cell_type": "markdown",
      "source": [
        "### H2: Win Rate by Issue Area\n",
        "\n",
        "- By calculating the win rate for the first party across different issue areas, this view sheds light on which legal domains see a higher success rate for plaintiffs. This insight can help in understanding if certain areas of law are more favorable to the first party."
      ],
      "metadata": {
        "id": "TLy2KFvqpL5w"
      }
    },
    {
      "cell_type": "code",
      "source": [
        "spark.sql(\"\"\"\n",
        "CREATE OR REPLACE TEMP VIEW WinRate AS\n",
        "SELECT issue_area, AVG(first_party_winner) as win_rate\n",
        "FROM supreme_data\n",
        "GROUP BY issue_area\n",
        "ORDER BY win_rate DESC\n",
        "\"\"\")\n",
        "\n",
        "spark.sql(\"SELECT * FROM WinRate\").show()"
      ],
      "metadata": {
        "colab": {
          "base_uri": "https://localhost:8080/"
        },
        "id": "JZg9m97cYdg0",
        "outputId": "c4625289-469e-4da1-a716-120cbb6d2242"
      },
      "execution_count": 88,
      "outputs": [
        {
          "output_type": "stream",
          "name": "stdout",
          "text": [
            "+--------------------+-------------------+\n",
            "|          issue_area|           win_rate|\n",
            "+--------------------+-------------------+\n",
            "|           Attorneys| 0.7297297297297297|\n",
            "|  Criminal Procedure| 0.6989374262101535|\n",
            "|             Privacy| 0.6956521739130435|\n",
            "|      Judicial Power| 0.6828478964401294|\n",
            "|         Due Process| 0.6692913385826772|\n",
            "|     First Amendment| 0.6657142857142857|\n",
            "|        Civil Rights| 0.6654804270462633|\n",
            "|   Economic Activity| 0.6512059369202227|\n",
            "|              Unions| 0.6101694915254238|\n",
            "|    Federal Taxation| 0.5686274509803921|\n",
            "|          Federalism|              0.552|\n",
            "|      Private Action|                0.5|\n",
            "|Interstate Relations|                0.5|\n",
            "|       Miscellaneous|0.47368421052631576|\n",
            "+--------------------+-------------------+\n",
            "\n"
          ]
        }
      ]
    },
    {
      "cell_type": "markdown",
      "source": [
        "### Majority vs. Minority Vote Analysis\n",
        "\n",
        "- This view explores how the configuration of majority and minority votes within the court correlates with the outcome for the first party. It provides a unique angle to assess how unanimous or divided court decisions impact case outcomes."
      ],
      "metadata": {
        "id": "C9DL7KSQpOKu"
      }
    },
    {
      "cell_type": "code",
      "source": [
        "spark.sql(\"\"\"\n",
        "CREATE OR REPLACE TEMP VIEW MajorityMinority AS\n",
        "SELECT majority_vote, minority_vote, AVG(first_party_winner) as average_win\n",
        "FROM supreme_data\n",
        "GROUP BY majority_vote, minority_vote\n",
        "ORDER BY average_win DESC\n",
        "\"\"\")\n",
        "\n",
        "spark.sql(\"SELECT * FROM MajorityMinority\").show()"
      ],
      "metadata": {
        "colab": {
          "base_uri": "https://localhost:8080/"
        },
        "id": "jlr5edKeo-LM",
        "outputId": "ceab6126-050d-4bb5-ea55-3dd3a632535f"
      },
      "execution_count": 89,
      "outputs": [
        {
          "output_type": "stream",
          "name": "stdout",
          "text": [
            "+-------------+-------------+------------------+\n",
            "|majority_vote|minority_vote|       average_win|\n",
            "+-------------+-------------+------------------+\n",
            "|            6|            0|               1.0|\n",
            "|            7|            1|0.7846153846153846|\n",
            "|            6|            1|              0.75|\n",
            "|            5|            3|0.7176470588235294|\n",
            "|            7|            2|0.7113702623906706|\n",
            "|            8|            1|0.7109004739336493|\n",
            "|            9|            0|0.7079918032786885|\n",
            "|            5|            2|            0.6875|\n",
            "|            8|            0|0.6802325581395349|\n",
            "|            6|            3|0.6565420560747663|\n",
            "|            5|            4|0.5840978593272171|\n",
            "|            6|            2|0.5813953488372093|\n",
            "|            4|            3|               0.5|\n",
            "|            7|            0|               0.5|\n",
            "|            4|            2|0.3333333333333333|\n",
            "|            4|            4|               0.0|\n",
            "+-------------+-------------+------------------+\n",
            "\n"
          ]
        }
      ]
    },
    {
      "cell_type": "markdown",
      "source": [
        "### Sentiment Analysis of Case Facts\n",
        "\n",
        "- This view categorizes cases based on the sentiment (positive, negative, neutral) of their facts and compares the win rates among these categories. It aims to uncover whether the emotional tone of case descriptions correlates with judicial outcomes."
      ],
      "metadata": {
        "id": "2Umpt2fUpdMI"
      }
    },
    {
      "cell_type": "code",
      "source": [
        "spark.sql(\"\"\"\n",
        "CREATE OR REPLACE TEMP VIEW SentimentAnalysis AS\n",
        "SELECT sentiment_label, AVG(first_party_winner) as win_rate\n",
        "FROM supreme_data\n",
        "GROUP BY sentiment_label\n",
        "ORDER BY win_rate DESC\n",
        "\"\"\")\n",
        "\n",
        "spark.sql(\"SELECT * FROM SentimentAnalysis\").show()"
      ],
      "metadata": {
        "colab": {
          "base_uri": "https://localhost:8080/"
        },
        "id": "1S5eJGjDo_xI",
        "outputId": "e1693967-9cbd-4353-d029-31c1d5575c36"
      },
      "execution_count": 90,
      "outputs": [
        {
          "output_type": "stream",
          "name": "stdout",
          "text": [
            "+---------------+------------------+\n",
            "|sentiment_label|          win_rate|\n",
            "+---------------+------------------+\n",
            "|       negative|0.6779575328614762|\n",
            "|       positive| 0.651928504233302|\n",
            "|        neutral| 0.559322033898305|\n",
            "+---------------+------------------+\n",
            "\n"
          ]
        }
      ]
    },
    {
      "cell_type": "markdown",
      "source": [
        "### H3: Decision Type Impact on Cases\n",
        "\n",
        "- Investigating the influence of different decision types (e.g., majority opinion, per curiam) on case outcomes, this view can reveal whether some types of decisions are more likely to result in a win for the first party, offering insights into the judicial process and its nuances."
      ],
      "metadata": {
        "id": "MmBgM6cfpbQR"
      }
    },
    {
      "cell_type": "code",
      "source": [
        "spark.sql(\"\"\"\n",
        "CREATE OR REPLACE TEMP VIEW DecisionTypeImpact AS\n",
        "SELECT decision_type, AVG(first_party_winner) as win_rate\n",
        "FROM supreme_data\n",
        "GROUP BY decision_type\n",
        "ORDER BY win_rate DESC\n",
        "\"\"\")\n",
        "\n",
        "spark.sql(\"SELECT * FROM DecisionTypeImpact\").show()"
      ],
      "metadata": {
        "colab": {
          "base_uri": "https://localhost:8080/"
        },
        "id": "xX-zqiH5pBYq",
        "outputId": "6065840b-2aba-4153-95c7-5b92e9acf7fe"
      },
      "execution_count": 91,
      "outputs": [
        {
          "output_type": "stream",
          "name": "stdout",
          "text": [
            "+--------------------+------------------+\n",
            "|       decision_type|          win_rate|\n",
            "+--------------------+------------------+\n",
            "|    dismissal - moot|               1.0|\n",
            "|opinion of the court|               1.0|\n",
            "|          per curiam|0.8873239436619719|\n",
            "|    majority opinion|0.6595666544252663|\n",
            "|   plurality opinion|0.5517241379310345|\n",
            "|     equally divided|               0.0|\n",
            "|   dismissal - other|               0.0|\n",
            "|dismissal - impro...|               0.0|\n",
            "+--------------------+------------------+\n",
            "\n"
          ]
        }
      ]
    },
    {
      "cell_type": "markdown",
      "source": [
        "### Term Analysis for Sentiment Label Distribution\n",
        "\n",
        "- By examining the distribution of sentiment labels (positive, negative, neutral) across different terms, this view helps in understanding how the emotional tone of case facts changes over time, possibly reflecting shifts in societal attitudes or legal priorities."
      ],
      "metadata": {
        "id": "OqTjk21Tqs1y"
      }
    },
    {
      "cell_type": "code",
      "source": [
        "spark.sql(\"\"\"\n",
        "CREATE OR REPLACE TEMP VIEW TermSentimentDistribution AS\n",
        "SELECT term, sentiment_label, COUNT(*) as cases_count\n",
        "FROM supreme_data\n",
        "GROUP BY term, sentiment_label\n",
        "ORDER BY term, sentiment_label\n",
        "\"\"\")\n",
        "\n",
        "spark.sql(\"SELECT * FROM TermSentimentDistribution\").show()"
      ],
      "metadata": {
        "colab": {
          "base_uri": "https://localhost:8080/"
        },
        "id": "oSLhCzSvpD61",
        "outputId": "78fbf40c-3d37-47b5-bcb6-20f5366a3ffe"
      },
      "execution_count": 92,
      "outputs": [
        {
          "output_type": "stream",
          "name": "stdout",
          "text": [
            "+----+---------------+-----------+\n",
            "|term|sentiment_label|cases_count|\n",
            "+----+---------------+-----------+\n",
            "|1955|       negative|          3|\n",
            "|1955|       positive|          2|\n",
            "|1956|       negative|         11|\n",
            "|1956|        neutral|          3|\n",
            "|1956|       positive|          4|\n",
            "|1957|       negative|          9|\n",
            "|1957|        neutral|          1|\n",
            "|1957|       positive|          5|\n",
            "|1958|       negative|         11|\n",
            "|1958|       positive|          4|\n",
            "|1959|       negative|          4|\n",
            "|1959|       positive|          4|\n",
            "|1960|       negative|          9|\n",
            "|1960|       positive|          7|\n",
            "|1961|       negative|         13|\n",
            "|1961|       positive|          9|\n",
            "|1962|       negative|         11|\n",
            "|1962|        neutral|          1|\n",
            "|1962|       positive|          7|\n",
            "|1963|       negative|         11|\n",
            "+----+---------------+-----------+\n",
            "only showing top 20 rows\n",
            "\n"
          ]
        }
      ]
    },
    {
      "cell_type": "markdown",
      "source": [
        "### H4: Average Facts Length by Win Status\n",
        "\n",
        "- This view compares the average length of the case facts for won vs. lost cases, aiming to identify if there's a link between the detail or complexity of a case's description and its likelihood of winning, suggesting how the depth of case presentation might influence outcomes."
      ],
      "metadata": {
        "id": "nWwN4dI_qygN"
      }
    },
    {
      "cell_type": "code",
      "source": [
        "spark.sql(\"\"\"\n",
        "CREATE OR REPLACE TEMP VIEW AvgFactsLengthByWinStatus AS\n",
        "SELECT first_party_winner, AVG(facts_len) as avg_facts_length\n",
        "FROM supreme_data\n",
        "GROUP BY first_party_winner\n",
        "ORDER BY first_party_winner\n",
        "\"\"\")\n",
        "\n",
        "spark.sql(\"SELECT * FROM AvgFactsLengthByWinStatus\").show()"
      ],
      "metadata": {
        "colab": {
          "base_uri": "https://localhost:8080/"
        },
        "id": "eryOnYhmqyzl",
        "outputId": "00f0048c-ac11-417d-cb91-5c4e4c4ff638"
      },
      "execution_count": 93,
      "outputs": [
        {
          "output_type": "stream",
          "name": "stdout",
          "text": [
            "+------------------+------------------+\n",
            "|first_party_winner|  avg_facts_length|\n",
            "+------------------+------------------+\n",
            "|                 0| 1121.216844143272|\n",
            "|                 1|1126.9709724238026|\n",
            "+------------------+------------------+\n",
            "\n"
          ]
        }
      ]
    },
    {
      "cell_type": "markdown",
      "source": [
        "### Majority Vote Impact on Sentiment Score\n",
        "\n",
        "- Analyzing the relationship between the majority vote count and the average sentiment score of case facts, this view investigates whether cases with stronger consensus among justices are associated with particular sentiment scores, hinting at the emotional undertones of more clear-cut legal decisions."
      ],
      "metadata": {
        "id": "GPahR5z7q1_2"
      }
    },
    {
      "cell_type": "code",
      "source": [
        "spark.sql(\"\"\"\n",
        "CREATE OR REPLACE TEMP VIEW MajorityVoteSentiment AS\n",
        "SELECT majority_vote, AVG(sentiment_score) as avg_sentiment_score\n",
        "FROM supreme_data\n",
        "GROUP BY majority_vote\n",
        "ORDER BY majority_vote\n",
        "\"\"\")\n",
        "\n",
        "spark.sql(\"SELECT * FROM MajorityVoteSentiment\").show()"
      ],
      "metadata": {
        "colab": {
          "base_uri": "https://localhost:8080/"
        },
        "id": "D4VUSSBcq2Xn",
        "outputId": "97e750ff-33ff-4c7e-8d23-b4f50cdbcc09"
      },
      "execution_count": 94,
      "outputs": [
        {
          "output_type": "stream",
          "name": "stdout",
          "text": [
            "+-------------+--------------------+\n",
            "|majority_vote| avg_sentiment_score|\n",
            "+-------------+--------------------+\n",
            "|            4|-0.05564286187291145|\n",
            "|            5|-0.26761165605919646|\n",
            "|            6| -0.2398240534581198|\n",
            "|            7|-0.29737697574634886|\n",
            "|            8| -0.2388075730391333|\n",
            "|            9| -0.2511012293703732|\n",
            "+-------------+--------------------+\n",
            "\n"
          ]
        }
      ]
    },
    {
      "cell_type": "markdown",
      "source": [
        "### Disposition Impact on Case Outcome\n",
        "\n",
        "- Exploring how different dispositions (e.g., reversed, affirmed) affect the win rate of the first party, this view offers insights into how the final ruling's nature correlates with the success of the appealing party, providing a deeper understanding of judicial patterns."
      ],
      "metadata": {
        "id": "Auvv60dxq1Xi"
      }
    },
    {
      "cell_type": "code",
      "source": [
        "spark.sql(\"\"\"\n",
        "CREATE OR REPLACE TEMP VIEW DispositionImpact AS\n",
        "SELECT disposition, AVG(first_party_winner) as win_rate\n",
        "FROM supreme_data\n",
        "GROUP BY disposition\n",
        "ORDER BY win_rate DESC\n",
        "\"\"\")\n",
        "\n",
        "spark.sql(\"SELECT * FROM DispositionImpact\").show()"
      ],
      "metadata": {
        "colab": {
          "base_uri": "https://localhost:8080/"
        },
        "id": "uVDKfv15q1uh",
        "outputId": "a92d371d-9aef-4395-8440-b5ef3b9f5e76"
      },
      "execution_count": 95,
      "outputs": [
        {
          "output_type": "stream",
          "name": "stdout",
          "text": [
            "+--------------------+--------------------+\n",
            "|         disposition|            win_rate|\n",
            "+--------------------+--------------------+\n",
            "|             vacated|                 1.0|\n",
            "|   reversed/remanded|  0.9904761904761905|\n",
            "|            reversed|  0.9893428063943162|\n",
            "|    vacated/remanded|  0.9258373205741627|\n",
            "|vacated in-part/r...|                 0.8|\n",
            "|reversed in-part/...|  0.7049180327868853|\n",
            "|    reversed in-part|   0.631578947368421|\n",
            "|                none|  0.3076923076923077|\n",
            "|            affirmed|0.014507772020725389|\n",
            "+--------------------+--------------------+\n",
            "\n"
          ]
        }
      ]
    },
    {
      "cell_type": "markdown",
      "source": [
        "### Cases Won by Term and Issue Area\n",
        "\n",
        "- This view breaks down the success rate of cases by term and issue area, enabling a granular analysis of how the likelihood of winning varies across different legal domains and periods. It can reveal trends and shifts in judicial outcomes related to specific areas of law over time."
      ],
      "metadata": {
        "id": "FhrBai04q0wH"
      }
    },
    {
      "cell_type": "code",
      "source": [
        "spark.sql(\"\"\"\n",
        "CREATE OR REPLACE TEMP VIEW CasesWonByTermIssueArea AS\n",
        "SELECT term, issue_area, SUM(first_party_winner) as cases_won, COUNT(*) as total_cases\n",
        "FROM supreme_data\n",
        "GROUP BY term, issue_area\n",
        "ORDER BY term, issue_area\n",
        "\"\"\")\n",
        "\n",
        "spark.sql(\"SELECT * FROM CasesWonByTermIssueArea\").show()"
      ],
      "metadata": {
        "colab": {
          "base_uri": "https://localhost:8080/"
        },
        "id": "Apzhdp8-q1B4",
        "outputId": "bc4d5118-33b8-4920-9ab3-ea8f18a85eab"
      },
      "execution_count": 96,
      "outputs": [
        {
          "output_type": "stream",
          "name": "stdout",
          "text": [
            "+----+------------------+---------+-----------+\n",
            "|term|        issue_area|cases_won|total_cases|\n",
            "+----+------------------+---------+-----------+\n",
            "|1955|      Civil Rights|        2|          2|\n",
            "|1955|   First Amendment|        2|          3|\n",
            "|1956|Criminal Procedure|        5|          5|\n",
            "|1956| Economic Activity|        4|          5|\n",
            "|1956|   First Amendment|        3|          5|\n",
            "|1956|    Judicial Power|        0|          2|\n",
            "|1956|            Unions|        1|          1|\n",
            "|1957|Criminal Procedure|        1|          4|\n",
            "|1957| Economic Activity|        2|          4|\n",
            "|1957|        Federalism|        0|          1|\n",
            "|1957|   First Amendment|        5|          6|\n",
            "|1958|      Civil Rights|        1|          1|\n",
            "|1958|Criminal Procedure|        2|          5|\n",
            "|1958| Economic Activity|        3|          4|\n",
            "|1958|        Federalism|        1|          2|\n",
            "|1958|   First Amendment|        0|          2|\n",
            "|1958|    Judicial Power|        1|          1|\n",
            "|1959|      Civil Rights|        0|          1|\n",
            "|1959|Criminal Procedure|        0|          1|\n",
            "|1959| Economic Activity|        4|          4|\n",
            "+----+------------------+---------+-----------+\n",
            "only showing top 20 rows\n",
            "\n"
          ]
        }
      ]
    },
    {
      "cell_type": "markdown",
      "source": [
        "## Experiment: How well can a model predict the outcome based on \"just\" the facts?\n",
        "\n",
        "Overview:\n",
        "\n",
        "Trained a logistic regression model to predict Supreme Court case outcomes based on case descriptions (facts) and legal domains (issue_area).\n",
        "Method\n",
        "\n",
        "    Features: Textual facts of cases and their issue_area.\n",
        "    Model: Logistic regression, with preprocessing for text vectorization and categorical encoding.\n",
        "\n",
        "Results\n",
        "\n",
        "The model was evaluated for accuracy and showed promising predictive performance. However, based on the scoring in comparison with the previous model, it's evident that the model needs much more features to increase its prediction accuracy and that there are a lot more potential factors of influence other than just \"the facts\" and their issue areas.\n",
        "Case Study\n",
        "\n",
        "Applied the model to predict outcomes for hypothetical cases in \"Economic Activity\" and \"Unions\" domains, showcasing its practical utility."
      ],
      "metadata": {
        "id": "kmZMgatssbAk"
      }
    },
    {
      "cell_type": "code",
      "source": [
        "from pyspark.ml.feature import HashingTF, IndexToString\n",
        "\n",
        "# tokenizing the 'facts' text\n",
        "tokenizer = Tokenizer(inputCol=\"facts\", outputCol=\"words\")\n",
        "\n",
        "# feature hashing on the tokenized 'facts'\n",
        "hashingTF = HashingTF(inputCol=tokenizer.getOutputCol(), outputCol=\"features_facts\", numFeatures=1000)\n",
        "\n",
        "# converting 'issue_area' into indexed categories\n",
        "issue_area_indexer = StringIndexer(inputCol=\"issue_area\", outputCol=\"issue_area_index\")\n",
        "\n",
        "# one-hot encoding the indexed 'issue_area'\n",
        "encoder = OneHotEncoder(inputCol=\"issue_area_index\", outputCol=\"features_issue_area\")\n",
        "\n",
        "# assembling 'features_facts' and 'features_issue_area' into a single feature vector\n",
        "assembler = VectorAssembler(inputCols=[\"features_facts\", \"features_issue_area\"], outputCol=\"features\")\n",
        "\n",
        "# logistic regression model\n",
        "lr = LogisticRegression(featuresCol=\"features\", labelCol=\"first_party_winner\")\n",
        "\n",
        "# pipeline\n",
        "pipeline = Pipeline(stages=[tokenizer, hashingTF, issue_area_indexer, encoder, assembler, lr])"
      ],
      "metadata": {
        "id": "LgC93I5RscKJ"
      },
      "execution_count": 185,
      "outputs": []
    },
    {
      "cell_type": "code",
      "source": [
        "(train, test) = supreme.randomSplit([0.8, 0.2], seed=1234)"
      ],
      "metadata": {
        "id": "oLOcG3l5u5ur"
      },
      "execution_count": 186,
      "outputs": []
    },
    {
      "cell_type": "code",
      "source": [
        "# fitting pipeline\n",
        "model = pipeline.fit(train)\n",
        "\n",
        "# making predictions\n",
        "predictions = model.transform(test)\n",
        "\n",
        "# evaluation using AUC-ROC\n",
        "\n",
        "evaluator = BinaryClassificationEvaluator(labelCol=\"first_party_winner\", rawPredictionCol=\"rawPrediction\", metricName=\"areaUnderROC\")\n",
        "roc_auc = evaluator.evaluate(predictions)\n",
        "print(f\"Area under the ROC curve: {roc_auc}\")"
      ],
      "metadata": {
        "colab": {
          "base_uri": "https://localhost:8080/"
        },
        "id": "xE4jbUgHu-O9",
        "outputId": "186fd366-4fe3-4ec8-c619-a40f59c681dd"
      },
      "execution_count": 187,
      "outputs": [
        {
          "output_type": "stream",
          "name": "stdout",
          "text": [
            "Area under the ROC curve: 0.5811620635747785\n"
          ]
        }
      ]
    },
    {
      "cell_type": "code",
      "source": [
        "# For Precision, Recall, F1-Score\n",
        "multiEvaluator = MulticlassClassificationEvaluator(labelCol=\"first_party_winner\", predictionCol=\"prediction\")\n",
        "precision = multiEvaluator.evaluate(predictions, {multiEvaluator.metricName: \"precisionByLabel\"})\n",
        "recall = multiEvaluator.evaluate(predictions, {multiEvaluator.metricName: \"recallByLabel\"})\n",
        "f1 = multiEvaluator.evaluate(predictions, {multiEvaluator.metricName: \"f1\"})\n",
        "print(\"Precision = %s\" % precision)\n",
        "print(\"Recall = %s\" % recall)\n",
        "print(\"F1 Score = %s\" % f1)"
      ],
      "metadata": {
        "colab": {
          "base_uri": "https://localhost:8080/"
        },
        "id": "DOfK_EUsyVz1",
        "outputId": "ab1b99e8-efb5-45cd-e00d-033caca27558"
      },
      "execution_count": 188,
      "outputs": [
        {
          "output_type": "stream",
          "name": "stdout",
          "text": [
            "Precision = 0.4369369369369369\n",
            "Recall = 0.4801980198019802\n",
            "F1 Score = 0.6087910999893105\n"
          ]
        }
      ]
    },
    {
      "cell_type": "code",
      "source": [
        "# For Accuracy\n",
        "accuracyEvaluator = MulticlassClassificationEvaluator(labelCol=\"first_party_winner\", predictionCol=\"prediction\", metricName=\"accuracy\")\n",
        "\n",
        "accuracy = accuracyEvaluator.evaluate(predictions)\n",
        "\n",
        "print(\"Accuracy = %s\" % accuracy)"
      ],
      "metadata": {
        "colab": {
          "base_uri": "https://localhost:8080/"
        },
        "id": "zO5Kq8VqyUNl",
        "outputId": "a0ea2592-3373-4635-d866-ccec8f97e6a4"
      },
      "execution_count": 191,
      "outputs": [
        {
          "output_type": "stream",
          "name": "stdout",
          "text": [
            "Accuracy = 0.6048109965635738\n"
          ]
        }
      ]
    },
    {
      "cell_type": "code",
      "source": [
        "# example new cases (created by LLM's)\n",
        "new_cases = spark.createDataFrame([\n",
        "    (\"A group of small business owners files a lawsuit against a new federal regulation that imposes significant restrictions on online advertising practices. They argue that the regulation unfairly targets smaller enterprises, placing them at a competitive disadvantage against larger corporations. The plaintiffs claim these restrictions violate their rights to engage in free commerce and free speech, as guaranteed by the Constitution.\", \"Economic Activity\"),\n",
        "    (\"A public sector workers' union challenges a state law that prohibits union dues from being automatically deducted from workers' paychecks. The union contends that this law infringes on their rights to organize and collectively bargain, asserting that it significantly hampers their ability to support and represent their members effectively. They argue this law is a direct violation of the First Amendment rights of association and petition.\", \"Unions\")\n",
        "], [\"facts\", \"issue_area\"])\n",
        "\n",
        "# making predictions on the new cases\n",
        "new_predictions = model.transform(new_cases)\n",
        "\n",
        "new_predictions.select(\"facts\", \"issue_area\", \"prediction\", \"probability\").show(truncate=True)"
      ],
      "metadata": {
        "colab": {
          "base_uri": "https://localhost:8080/"
        },
        "id": "tZGRhoi_vLrZ",
        "outputId": "68ba8627-69e5-4acc-eeb1-2c30b27a5267"
      },
      "execution_count": 101,
      "outputs": [
        {
          "output_type": "stream",
          "name": "stdout",
          "text": [
            "+--------------------+-----------------+----------+--------------------+\n",
            "|               facts|       issue_area|prediction|         probability|\n",
            "+--------------------+-----------------+----------+--------------------+\n",
            "|A group of small ...|Economic Activity|       1.0|[0.00330346135335...|\n",
            "|A public sector w...|           Unions|       0.0|[0.66769277895179...|\n",
            "+--------------------+-----------------+----------+--------------------+\n",
            "\n"
          ]
        }
      ]
    },
    {
      "cell_type": "markdown",
      "source": [
        "### Evaluation\n",
        "\n",
        "Case 1: Economic Activity\n",
        "\n",
        "Facts Summary: A lawsuit challenges federal regulations on online advertising, arguing they unfairly target small businesses.\n",
        "\n",
        "    Issue Area: Economic Activity\n",
        "    Prediction: Win (1.0)\n",
        "    Probability: [0.0033, 0.9967]\n",
        "\n",
        "The model predicts that the first party (presumably the group of small business owners) will win the case with a very high confidence (probability of winning is approximately 99.67%). This suggests that, based on the model's learning from historical data, cases similar to this scenario within the \"Economic Activity\" domain are likely to result in a victory for the challenger.\n",
        "\n",
        "\n",
        "Case 2: Unions\n",
        "\n",
        "Facts Summary: A union challenges a state law prohibiting automatic union dues deductions from paychecks.\n",
        "\n",
        "    Issue Area: Unions\n",
        "    Prediction: Loss (0.0)\n",
        "    Probability: [0.6677, 0.3323]\n",
        "\n",
        "For this case, the model predicts a loss for the union challenging the state law, with a moderate level of confidence (probability of losing is approximately 66.77%). This indicates that, according to the model's training on past cases, such challenges within the \"Unions\" issue area tend to not favor the party challenging the state laws."
      ],
      "metadata": {
        "id": "-v6GDETDx5Jh"
      }
    }
  ],
  "metadata": {
    "colab": {
      "provenance": [],
      "toc_visible": true,
      "gpuType": "T4"
    },
    "kernelspec": {
      "display_name": "Python 3",
      "name": "python3"
    },
    "language_info": {
      "name": "python"
    }
  },
  "nbformat": 4,
  "nbformat_minor": 0
}